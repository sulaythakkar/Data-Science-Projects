{
 "cells": [
  {
   "cell_type": "markdown",
   "metadata": {},
   "source": [
    "# Building a Spam Filter with Naive Bayes\n",
    "\n",
    "In this project, we are going to create a spam filter for SMS messages.\n",
    "To classify a message as spam or non-spam, the computer:\n",
    "- Learns how humans classify messages.\n",
    "- Uses that human knowledge to estimate probabilities for new messages — probabilities for spam and non-spam.\n",
    "- Classifies a new message based on these probability values — if the probability for spam is greater, then it classifies the message as spam. Otherwise, it classifies it as non-spam (if the two probability values are equal, then we may need a human to classify the message).\n",
    "\n",
    "So our first task is to \"teach\" the computer how to classify messages. To do that, we'll use the multinomial Naive Bayes algorithm along with a dataset of 5,572 SMS messages that are already classified by humans.\n",
    "\n",
    "You can download the dataset from [here](https://dq-content.s3.amazonaws.com/433/SMSSpamCollection)."
   ]
  },
  {
   "cell_type": "markdown",
   "metadata": {},
   "source": [
    "## Exploring the Dataset"
   ]
  },
  {
   "cell_type": "code",
   "execution_count": 1,
   "metadata": {
    "collapsed": false
   },
   "outputs": [
    {
     "name": "stdout",
     "output_type": "stream",
     "text": [
      "(5572, 2)\n"
     ]
    },
    {
     "data": {
      "text/plain": [
       "ham     86.593683\n",
       "spam    13.406317\n",
       "Name: Label, dtype: float64"
      ]
     },
     "execution_count": 1,
     "metadata": {},
     "output_type": "execute_result"
    }
   ],
   "source": [
    "import pandas as pd\n",
    "\n",
    "sms_spam = pd.read_csv(\"SMSSpamCollection\",sep=\"\\t\",header=None,names=[\"Label\",\"SMS\"])\n",
    "print(sms_spam.shape)\n",
    "sms_spam[\"Label\"].value_counts(normalize=True)*100"
   ]
  },
  {
   "cell_type": "markdown",
   "metadata": {},
   "source": [
    "## Training and Test Set"
   ]
  },
  {
   "cell_type": "markdown",
   "metadata": {},
   "source": [
    "We're now going to split our dataset into a training and a test set, where the training set accounts for 80% of the data, and the test set for the remaining 20%."
   ]
  },
  {
   "cell_type": "code",
   "execution_count": 2,
   "metadata": {
    "collapsed": false
   },
   "outputs": [
    {
     "name": "stdout",
     "output_type": "stream",
     "text": [
      "(4458, 2)\n",
      "(1114, 2)\n"
     ]
    }
   ],
   "source": [
    "# Randomize the dataset\n",
    "data_randomized = sms_spam.sample(frac=1, random_state=1)\n",
    "\n",
    "# Calculate index for split\n",
    "training_test_index = round(len(data_randomized) * 0.8)\n",
    "\n",
    "# Training/Test split\n",
    "training_set = data_randomized[:training_test_index].reset_index(drop=True)\n",
    "test_set = data_randomized[training_test_index:].reset_index(drop=True)\n",
    "\n",
    "print(training_set.shape)\n",
    "print(test_set.shape)"
   ]
  },
  {
   "cell_type": "markdown",
   "metadata": {},
   "source": [
    "We'll now analyze the percentage of spam and ham messages in the training and test sets. We expect the percentages to be close to what we have in the full dataset, where about 87% of the messages are ham, and the remaining 13% are spam."
   ]
  },
  {
   "cell_type": "code",
   "execution_count": 3,
   "metadata": {
    "collapsed": false
   },
   "outputs": [
    {
     "data": {
      "text/plain": [
       "ham     0.86541\n",
       "spam    0.13459\n",
       "Name: Label, dtype: float64"
      ]
     },
     "execution_count": 3,
     "metadata": {},
     "output_type": "execute_result"
    }
   ],
   "source": [
    "training_set['Label'].value_counts(normalize=True)"
   ]
  },
  {
   "cell_type": "code",
   "execution_count": 4,
   "metadata": {
    "collapsed": false
   },
   "outputs": [
    {
     "data": {
      "text/plain": [
       "ham     0.868043\n",
       "spam    0.131957\n",
       "Name: Label, dtype: float64"
      ]
     },
     "execution_count": 4,
     "metadata": {},
     "output_type": "execute_result"
    }
   ],
   "source": [
    "test_set['Label'].value_counts(normalize=True)"
   ]
  },
  {
   "cell_type": "markdown",
   "metadata": {},
   "source": [
    "## Data Cleaning"
   ]
  },
  {
   "cell_type": "code",
   "execution_count": 5,
   "metadata": {
    "collapsed": false
   },
   "outputs": [
    {
     "data": {
      "text/html": [
       "<div>\n",
       "<style scoped>\n",
       "    .dataframe tbody tr th:only-of-type {\n",
       "        vertical-align: middle;\n",
       "    }\n",
       "\n",
       "    .dataframe tbody tr th {\n",
       "        vertical-align: top;\n",
       "    }\n",
       "\n",
       "    .dataframe thead th {\n",
       "        text-align: right;\n",
       "    }\n",
       "</style>\n",
       "<table border=\"1\" class=\"dataframe\">\n",
       "  <thead>\n",
       "    <tr style=\"text-align: right;\">\n",
       "      <th></th>\n",
       "      <th>Label</th>\n",
       "      <th>SMS</th>\n",
       "    </tr>\n",
       "  </thead>\n",
       "  <tbody>\n",
       "    <tr>\n",
       "      <th>0</th>\n",
       "      <td>ham</td>\n",
       "      <td>yep  by the pretty sculpture</td>\n",
       "    </tr>\n",
       "    <tr>\n",
       "      <th>1</th>\n",
       "      <td>ham</td>\n",
       "      <td>yes  princess  are you going to make me moan</td>\n",
       "    </tr>\n",
       "    <tr>\n",
       "      <th>2</th>\n",
       "      <td>ham</td>\n",
       "      <td>welp apparently he retired</td>\n",
       "    </tr>\n",
       "    <tr>\n",
       "      <th>3</th>\n",
       "      <td>ham</td>\n",
       "      <td>havent</td>\n",
       "    </tr>\n",
       "    <tr>\n",
       "      <th>4</th>\n",
       "      <td>ham</td>\n",
       "      <td>i forgot 2 ask ü all smth   there s a card on ...</td>\n",
       "    </tr>\n",
       "  </tbody>\n",
       "</table>\n",
       "</div>"
      ],
      "text/plain": [
       "  Label                                                SMS\n",
       "0   ham                       yep  by the pretty sculpture\n",
       "1   ham      yes  princess  are you going to make me moan \n",
       "2   ham                         welp apparently he retired\n",
       "3   ham                                            havent \n",
       "4   ham  i forgot 2 ask ü all smth   there s a card on ..."
      ]
     },
     "execution_count": 5,
     "metadata": {},
     "output_type": "execute_result"
    }
   ],
   "source": [
    "training_set[\"SMS\"] = training_set[\"SMS\"].str.replace(\"\\W\",\" \")\n",
    "training_set[\"SMS\"] = training_set[\"SMS\"].str.lower()\n",
    "training_set.head()"
   ]
  },
  {
   "cell_type": "code",
   "execution_count": 6,
   "metadata": {
    "collapsed": false
   },
   "outputs": [
    {
     "name": "stdout",
     "output_type": "stream",
     "text": [
      "['corporation', '07099833605', 'bailiff', 'yijue', 'queen', 'wise', '6th', 'lapdancer', 's', 'balance', 'lar', 'attractive', 'table', '6wu', 'havbeen', '3uz', 'every1', 'divert', 'moon', 'tank', 'awaiting', 'amla', 'fact', 'audition', 'win', 'surrounded', '00', 'deposit', '85', 'bone', 'dun', 'wither', 'listening2the', 'studying', 'sha', 'vs', 'fightng', 'smoking', 'tape', 'miiiiiiissssssssss', 'copied', 'draws', 'kz', '88222', 'boytoy', 'gods', 'selfindependence', 'tirupur', 'secs', 'half', 'goin', 'lengths', 'recharged', 'goto', 'jones', 'n8', 'houseful', 'whispers', 'reply', 'oreos', 'subscribe', 'paypal', 'lotto', 'jump', 'tomorro', 'musta', 'ic', 'vodafone', 'prolly', 'bother', 'stops', '0871', 'math', '09065171142', '09071512432', 'heroes', 'elliot', 'method', 'petexxx', 'morn', 'sway', 'gudnyt', 'ben', 'devils', 'songs', 'conacted', 'bec', 'matters', 'convey', 'sender', 'subject', 'l8rs', 'atm', 'host', 'compromised', 'achieve', 'overdid', 'bcm1896wc1n3xx', 'complain', 'sat', 'bb', '18p', 'rimac', 'jenxxx', 'sugar', 'icky', 'salon', 'drugs', 'polo', 'engin', 'egg', 'vaazhthukkal', '80182', 'inner', 'co', 'concerned', 'cat', 'minmobsmorelkpobox177hp51fl', 'gin', 'woulda', 'fetching', 'busetop', 'approved', 'tonexs', 'burnt', 'subs', 'kingdom', 'drops', 'pobox12n146tf150p', '15541', 'fainting', 'broken', 'spot', 'kalisidare', 'waited', '61610', 'ree', 'nite', 'fifa', 'pussy', 'sexiest', 'spare', 'parantella', 'masked', 'wildest', 'rent', 'from', 'call09050000327', 'emigrated', 'bad', 'greatly', 'germany', 'adding', 'padhe', 'plan', 'box139', 'ask', 'pocketbabe', 'ettans', 'grace', 'usmle', 'lip', 'career', 'lucky', 'blow', 'financial', '402', '09061702893', 'safely', 'xmas', 'vl', 'holder', 'yowifes', 'flying', 'kick', 'enemies', 'gamb', 'fujitsu', 'easier', 'reminding', 'begging', 'wadebridge', 'swhrt', 'medicine', 'wrong', '82277', 'mental', 'sensible', 'sitll', 'enters', 'opinions', 'thanx4', 'motive', 'vpod', 'viva', 'thinked', 'mufti', 'tree', '08000407165', 'await', 'isnt', 'dat', 'yesterday', '08706091795', 'shouldn', 'shirt', 'accommodationvouchers', 'img', '0870753331018', 'ghost', '195', 'mel', '087187272008', '09050000878', 'barolla', 'victoria', 'walks', 'wats', 'kidding', 'key', 'bx526', 'tarot', 'hearts', 'cardiff', 'fated', 'chk', 'nike', 'parents', 'shite', 'leona', 'aunty', 'transferred', '09066368470', 'maps', 'affectionate', 'csh11', 'prices', '30ish', 'dry', 'addicted', 'sufficient', 'mon', 'transfred', 'unspoken', 'gibbs', 'darren', 'tissco', 'uup', 'randomlly', 'advising', 'chillaxin', 'destination', 'hlp', 'hoping', 'move', 'rwm', 'cock', 'but', 'press', 'tke', 'thing', 'blank', 'nit', 'doesdiscount', 'none', 'versus', 'nickey', 'impress', 'freezing', 'july', 'lux', 'stranger', 'flowing', 'meets', 'justbeen', 'now', 'txtno', 'raping', 'sexual', 'market', 'crash', 'yeah', 'parco', 'sonyericsson', 'hvae', 'bani', 'run', 'finish', '09066364311', 'shrub', 'felt', 'didnt', 'buttheres', 'c', 'cm2', 'boundaries', 'depends', '62468', 'petrol', 'changing', 'tasts', 't4get2text', 'darling', 'computerless', 'hudgi', 'theplace', 'splash', 'attention', 'freaked', 'bcoz', 'suprman', 'tel', 'calculation', 'foundurself', 'bothering', 'website', 'best', 'cappuccino', 'necesity', '88088', 'north', 'together', 'arnt', 'kallis', 'mouth', 'natalie', 'asus', 'brownies', 'granted', 'panic', 'missin', 'crowd', '087016248', 'tescos', 'frnd', 'dasara', 'dozens', 'woul', 'condition', 'application', 'squeeeeeze', 'outs', 'camcorder', 'persevered', 'd', 'onto', 'broad', 'slovely', 'blake', 'chapel', 'take', '45239', 'mk45', 'matter', 'pride', 'galileo', 'pretend', 'lab', '2mrw', 'loan', 'deserve', 'geeeee', 'mark', '09064019014', 'selfish', 'texts', 'atlanta', 'neva', 'warner', 'favour', 'sun0819', 'hows', 'harry', 'shindig', 'say', 'major', 'txt250', 'hospitals', 'added', 'deluxe', 'recpt', 'lifeis', 'ah', 'difference', 'phews', 'previously', 'raiden', 'openin', 'mfl', 'ups', 'thedailydraw', '09061209465', 'playng', '69866', 'dialling', 'er', 'aeronautics', 'reltnship', 'looking', 'limits', 'quoting', 'appointment', 'bag', 'yor', 'no1', 'best1', 'txt', 'died', 'donyt', 'bridgwater', 'thinkthis', '83110', 'workout', 'whole', 'keralacircle', 'abusers', 'george', 'lodging', 'caring', 'area', 'madurai', 'october', 'jerk', 'burrito', '09094646899', 'starer', 'tick', 'allo', 'smash', 'enjoyed', 'babygoodbye', 'worried', 'dinner', 'platt', 'fine', 'cheat', '400mins', 'stagwood', 'dock', 'ths', 'naked', 'logon', 'emergency', '1million', 'erm', 'myself', 'century', '87131', 'fat', 'store', 'nimbomsons', 'let', 'loans', 'company', 'drinks', 'opener', '121', 'friendship', '12hours', 'laundry', 'breathe', 'buzy', 'idea', 'samantha', 'inform', 'city', 'familiar', 'bird', '0721072', 'vewy', 'rtm', 'nic', 'smells', 'jap', 'happens', 'mobsi', 'timing', 'e', '864233', '4742', 'passable', 'mobilesdirect', 'submitting', 'mum', 'applying', 'tkls', 'entire', 'phd', 'open', 'neglect', 'seeing', 'collection', 'bookedthe', 'dub', 'fill', 'ultimatum', 'txt43', 'polyc', 'diesel', 'sux', '85555', 'there', 'away', 'derek', '09065174042', 'answer', 'terms', 'album', 'waheed', 'billed', 'acnt', 'ruining', 'sore', 'pls', 'club', 'kisses', 'boring', 'goss', 'neck', 'ride', 'understanding', 'lololo', 'ym', 'club4', 'elections', 'ahold', 'swap', 'queries', '09096102316', 'myparents', 'dating', 'we', 'bend', 'rich', 'raise', 'net', 'stopbcm', 'annoying', 'cheers', 'urfeeling', 'children', 'friday', 'sleeps', 'limping', 'basically', 'misfits', 'xchat', 'brainy', '08712400200', 'creativity', 'programs', 'nothing', 'snap', 'mk17', 'cards', 'mutations', 'flag', 'arestaurant', 'shoulders', 'wylie', '08718727870150ppm', 'faggy', '11pm', 'exams', 'anywhere', 'compass', 'wasted', 'ivatte', '44', 'spjanuary', 'quickly', 'groovying', 'islands', 'mths', 'three', 'iriver', '31p', 'lyk', 'ringtoneking', 'complete', '430', 'ugh', 'suffering', 'burger', 'trek', 'boooo', 'blur', 'slide', 'invited', 'freedom', '07786200117', 'peak', 'uve', 'wtlp', 'stream', 'surrender', 'lousy', 'visiting', 'min', 'touched', '08715500022', 'taught', '4', 'fones', 'our', '945', 'missy', 'aspects', '300603', 'objection', '88066', 'dust', '5k', 'dis', 'munsters', 'li', 'recd', 'inc', 'if', '09058091870', 'password', 'speaking', 'exhaust', 'vote', 'care', 'adp', 'laugh', 'clearly', '08718730666', 'movie', 'cuz', 'aslamalaikkum', '08718726270', 'edwards', 'chillin', 'bathing', 'response', 'llspeak', '0870241182716', 'one', 'dokey', '30', 'supreme', 'hook', '鈥', 'gran', 'txtin', 'apartment', 'burning', 'werethe', 'slices', 'huiming', 'low', 'rowdy', 'eta', 'yogasana', 'warm', '100', 'practice', 'fucking', 'prabha', 'eatin', 'wrks', 'highest', 'hunt', '9am', 'fools', 'more', 'quote', 'suman', 'mathematics', 'homeowners', 'greatest', '09061213237', 'glad', 'shrink', 'crazy', 'jos', 'vikky', 'enc', '08000776320', 'feelin', 'panties', 'worse', 'sandiago', 'director', 'tunde', 'rajas', 'salmon', '391784', 'pieces', 'normal', 'orh', 'loses', 'mirror', 'unfortuntly', 're', 'bare', 'arranging', '0089', '08718730555', 'better', 'simple', 'fantasies', 'purity', 'guys', 'twilight', 'weren', 'loko', 'academic', 'muz', 'ihave', 'smth', 'fone', 'jenne', 'recognises', '7pm', 'page', 'indian', 'original', 'nimya', 'worc', 'med', 'cttargg', 'mymoby', 'alrite', 'star', 'weak', 'mr', 'united', 'india', 'mini', 'sake', 'beers', 'der', 'docks', 'pc', 'stated', 'word', 'commit', 'dao', 'ileave', 'acted', 'required', 'realising', 'sar', 'for', 'antha', '21st', '3qxj9', 'centre', 'ctxt', 'shldxxxx', 'turning', 'rate', 'entertain', 'bakra', 'idc', 'theater', 'sends', 'nvq', 'informed', 'pounded', 'gud', 'left', 'reading', 'scotch', 'tip', 'sweet', 'message', '09050000460', 'shortly', 'consider', 'lined', 'ü', 'lowes', 'james', '6669', '69876', 'inspection', 'prasanth', 'released', '08000839402', 'cant', 'ew', 'bac', 'rentl', 'hmm', 'purpose', 'ugadi', 'vegetables', 'wish', 'spoons', 'txts', 'phoenix', 'goodevening', 'furniture', 'republic', 'dhina', 'reflection', 'crucial', 'fieldof', 'wesleys', 'mahfuuz', 'wine', 'get', 'manege', 'surya', 'accordin', 'now1', 'xxxxx', 'discuss', 'urmom', 'drum', 'national', 'exchanged', 'aroundn', 'careless', 'fringe', 'tease', 'mokka', 'animation', 'eldest', 'wearing', 'ldew', 'wif', 'suddenly', 'twice', 'something', 'hip', 'sliding', 'trying', 'begun', 'oredi', 'upgrading', 'scenery', '08719180248', 'need', 'fixd', 'fall', 'thx', 'wot', 'mei', 'norm', 'shorter', 'agents', 'picked', 'burn', 'landline', 'toclaim', 'sen', 'dontcha', 'scotsman', 'like', 'dartboard', '9t', 'logos', 'hooch', 'babysit', 'africa', 'line', 'returns', 'leg', 'styles', 'm8', 'comp', '50pmmorefrommobile2bremoved', 'combination', 'forgt', 'refilled', 'confirmed', 'coz', 'hour', 'nonetheless', '08', '07815296484', 'earliest', 'datebox1282essexcm61xn', 'menu', 'resort', 'die', 'search', 'deer', 'forgive', 'fwiw', 'custcare', 'kothi', 'hey', 'dr', 'answr', 'chachi', 'qbank', 'raj', '100p', 'woohoo', 'thanku', 'whenevr', 'kills', 'weeks', 'somewhere', '150ppermesssubscription', 'bringing', 'edward', 'big', 'certainly', 'landlines', 'fox', 'luvs', 'hiya', 'pretty', 'avoid', 'clearing', 'b4u', 'embarassing', 'unlimited', 'borin', 'adds', 'wipe', 'wannatell', 'headache', 'announcement', 'thriller', 'marry', 'spam', 'inst', 'mmmmmmm', '150ppmpobox10183bhamb64xe', 'usa', 'ternal', 'although', '27', 'keeps', 'dict', 'helloooo', 'max', '6ish', 'shoving', 'guide', 'prayrs', 'katexxx', 'connected', '5digital', 'suite342', 'blowing', 'themes', 'resend', 'mandara', 'wishing', 'elaborating', 'a30', 'err', 'asshole', 'beg', 'algebra', 'chatter', 'enjoyin', 'shiny', 'je', 'warranty', 'steve', 'shipped', 'loo', '24hrs', 'tis', 'un', 'comfey', 'who', 'music', 'rcvd', 'meaningful', 'suitemates', 'tellmiss', 'princess', 'thinks', 'pl', 'bbq', '0844', '83383', 'ibhltd', 'sankatmochan', 'shsex', 'disappeared', 'anyone', 'unintentionally', 'strip', 'ls1', '09061790125', 'fantastic', 'asthma', 'hee', 'onluy', '87070', 'upgrdcentre', 'spiffing', 'sure', 'amrca', 'rats', '2ez', 'jackson', 'pobox84', 'sausage', 'smear', 'created', 'tomeandsaid', 'florida', 'cage', 'broth', 'anyways', 'inconvenient', 'pushes', 'registered', 'trouble', 'hmph', 'killed', 'probthat', 'squid', 'may', 'asian', 'haven', 'maat', '4txt', 'babe', 'deepest', 'tot', 'wrecked', 'careabout', 'honest', 'her', 'badass', 'nattil', 'seven', 'funs', 'thasa', 'gsoh', 'iz', 'charity', 'watching', 'entey', 'want2come', '2price', 'brain', 'shes', 'glorious', 'processed', 'sense', '40gb', 'accounting', 'tagged', 'close', 'sheets', 'thangam', 'dear1', 'rael', '84025', 'psychologist', 'hopes', 'screaming', 'jane', 'croydon', 'classic', 'elaya', 'doesn', 'wednesday', 'named', 'roles', 'experience', 'ring', 'parts', 'dental', 'bcmsfwc1n3xx', 'told', 'imf', 'upto', 'pix', '8wp', 'agree', 'vibrant', 'delete', 'flute', 'lifting', '8p', 'gurl', 'kuch', 'btw', 'anjola', 'prey', '113', 'heart', 'download', '08718738001', 'sexy', 'miles', 'exhausted', 'offers', '07973788240', 'irulinae', 'always', 'dream', 'equally', 'zogtorius', '09058094583', 'question', 'gona', 'plane', '09061790121', 'adventuring', 'biz', 'shag', 'kittum', '3xx', 'claire', 'advisors', 'accenture', 'tonght', '3510i', 'white', 'connect', 'removed', 'returning', 'world', 'junna', 'fps', 'weed', 'asking', 'ffectionate', 'fold', 'trade', 'aburo', 'aunties', 'm95', 'yupz', 'oic', 'pack', 'studies', 'zac', 'java', 'avatar', 'sorted', 'advice', 'service', 'kolathupalayam', 'bluray', 'franyxxxxx', '2stoptxt', 'bloo', 'else', 'samachara', 'influx', 'itwhichturnedinto', '1680', 'okey', 'bakrid', '09064017305', 'jstfrnd', 'wamma', 'talking', 'dooms', 'pillows', 'spatula', 'dose', 'newport', 'regarding', 'bajarangabali', 'tells', 'percent', 'unfolds', '08718720201', 'lonely', 'control', 'scenario', 'meeting', 'tears', 'afew', 'prepared', 'os', 'doors', 'thursday', 'girlie', 'should', 'whats', 'asked', 'throws', 'motivating', 'watevr', 'called', 'barbie', 'priority', 'wtf', 'haunt', 'laughing', 'avo', 'activities', 'instituitions', 'tackle', 'toking', 'hustle', 'veggie', 'employee', 'grief', 'peaceful', 'notes', 'm', 'gopalettan', '4the', 'srt', '4got', 'readiness', 'girls', 'peril', 'jetton', 'fgkslpo', 'causes', 'score', 'shoppin', '150p', 'mobilesvary', 'costumes', 'fake', 'provider', 'lambda', 'disk', '02085076972', 'thread', 'use', 'kodthini', 'hopeful', 'members', 'haha', 'steering', 'tihs', '169', 'mahaveer', 'shah', 'stock', 'tablet', 'stubborn', 'rcd', 'fights', 'slowing', 'fuelled', 'breathe1', 'notxt', 'gives', 'soiree', 'copies', 'std', '09066382422', 'xxsp', 'up', 'apps', 'water', 'dent', 'rightio', 'lo', 'listn', 'renewing', '255', 'rushing', 'thepub', 'push', 'hardly', 'sup', 'snuggles', 'facilities', '20p', '9307622', 'guessed', 'sankranti', 'cancelled', '10p', 'wikipedia', 'concentrate', '153', 'arts', 'tired', 'recharge', 'play', 'faith', '2stop', 'suckers', 'keeping', 'onam', 'accomodations', 'gifts', 'winds', 'business', 'aa', 'jacuzzi', 'representative', 'terrorist', 'lovejen', 'shipping', 'bay', 'wishin', 'price', 'teasing', 'dudes', 'gram', 'worrying', 'wisdom', 'presnts', 'jason', 'forum', 'bubbletext', 'listener', 'feathery', 'outfit', 'usual', 'talent', 'outta', 'empty', 'noline', 'jungle', 'maga', 'born', 'molested', 'toxic', 'awarded', 'tait', 'yavnt', '30th', 'yest', 'near', 'onwards', 'accept', 'prospects', 'upset', 'varunnathu', 'suits', 'come', '1pm', 'solve', 'yarasu', 'loads', 'r836', 'wk', 'swollen', 'bw', '07123456789', 'stability', 'deliveredtomorrow', 'festival', 'puppy', 'dislikes', 'mistakes', 'choice', 'himself', 'plm', 'disturb', '2309', 'instantly', 'respond', 'royal', 'somtimes', 'charges', 'invite', 'ladies', 'itcould', 'specially', 'holding', 'slowly', 'nt', 'attending', 'sweatter', 'wth', 'buff', 'prefer', 'lotsly', 'seventeen', 'helps', 'hard', 'walkin', '83600', 'technologies', 'simulate', 'yourinclusive', 'cougar', 'bhaskar', 'alaipayuthe', 'access', '2morrowxxxx', 'needs', 'eye', 'least', 'whose', 'kiss', 'sk3', 'mostly', '24th', 'sextextuk', 'garage', 'since', 'heavy', 'stifled', 'project', 'jordan', 'theory', '120p', 'upgrade', 'namous', 'contention', 'cell', '2marrow', 'underwear', 'delayed', 'monkeespeople', 'steal', 'several', 'genuine', 'teletext', 'ls15hb', 'set', 'wonder', '930', 'goodmate', 'smarter', 'ate', 'regret', 'me', 'mjzgroup', 'transaction', 'heads', 'fren', 'mins', 'ias', 'w1', 'already', 'fakeye', '1450', '542', '62220cncl', 'yck', 'adults', 'outsider', 'student', 'pants', 'bc', 'slave', 'complaining', 'bunch', 'ctla', 'bottom', 'starshine', 'resubbing', 'cream', 'bathroom', 'breakin', 'cover', 'unfortunately', 'character', 'kilos', '08718726970', 'mre', 'imprtant', 'sounding', 'olayiwola', 'details', 'joined', 'barkleys', 'celeb', 'kickboxing', 'laughed', 'cudnt', 'stuffed', 'jealous', 'ktv', 'siguviri', 'finishd', 'praps', 'barcelona', 'shijas', 'convince', 'scratching', 'someday', '3750', 'tightly', 'vomiting', 'gon', 'keris', 'meatballs', 'using', 'pub', 'studdying', 'anjie', 'brats', 'easiest', 'sarcastic', 'gone', 'forever', '09050001295', '08712400602450p', 'southern', 'sad', 'aig', '9ja', 'gosh', 'overheating', 'keys', 'pocy', 'babyjontet', 'cumin', 'teju', '09095350301', 'abuse', 'swell', 'thot', 'bids', 'term', 'tactful', 'snowball', 'was', 'wil', 'leaving', 'fromwrk', 'mountains', 'country', 'seat', 'blackberry', 'beforehand', '5p', 'scraped', 'wheel', 'vat', 'chad', 'reminded', 'bitch', 'ready', 'shaking', 'belive', 'kudi', 'future', 'cup', 'asa', 'sitting', 'aftr', 'evng', 'kindly', 'karaoke', 'hadn', 'armand', 'korli', 'cstore', 'bedbut', 'fucks', 'gbp4', '80608', 'rite', 'pdate_now', 'stretch', 'mail', 'inside', 'interesting', 'complaint', 'teenager', 'doc', 'waves', 'watchin', 'computer', 'js', 'combine', 'multimedia', 'kip', 'names', 'seeking', 'cutting', 'marsms', 'como', 'evening', 'percentages', 'def', 'ramaduth', 'soryda', 'opposite', '08717895698', 'prior', 'buzzzz', 'brought', 'mayb', 'tx', 'hogli', '2day', '447801259231', 'natwest', 'vettam', 'ended', 'virgin', '61200', 'gprs', 'undrstnd', 'budget', 'august', 'notifications', 'replies', 'married', 'parties', 'plum', 'pshew', 'contact', 'network', 'accidentally', 'toppoly', 'thrown', 'mtalk', 'squatting', 'celebrate', 'dl', 'fundamentals', 'bcs', 'shb', '25', 'dem', '03', 'matched', 'worlds', 'catches', 'nauseous', 'saucy', '8pm', '04', '69855', 'unsub', 'linerental', 'rather', 'presleys', 'kath', 'strong', 'hurry', 'den', 'pages', 'jokes', 'wining', 'bangb', 'durham', '09099725823', 'twinks', 'b4280703', 'private', 'boggy', 'make', 'respectful', '08719181513', 'anyplaces', 'most', 'raksha', 'kiosk', 'ugo', 'oli', 'flirt', 'searching', 'idu', 'tkts', 'tom', 'lacs', 'loooooool', 'belly', 'airport', 'onum', '118p', 'nah', 'hits', 'ke', 'pei', 'pmt', 'csc', 'clubmoby', 'gudnite', 'tampa', 'gandhipuram', 'arrested', 'la32wu', '3mobile', 'goin2bed', 'recently', 'duo', 'guy', 'log', 'callon', 'trackmarque', 'frontierville', 'red', 'starwars3', 'haul', '____', 'wonderful', 'drms', 'huh', 'includes', 'shoes', 'tsunamis', 'chart', 'jog', 'frequently', '000pes', 'support', 'forget', 'izzit', '47', 'arrange', 'worries', 'picture', '731', 'enter', 'pray', '4give', 'mcr', 'outbid', 'invoices', 'opportunity', 'the4th', '80086', 'virgil', 'audrey', 'marrge', 'hunting', '54', 'magical', 'comment', 'evry1', 'tariffs', 'rooms', 'nusstu', 'perpetual', 'hols', 'weasels', 'avenge', 'settle', 'sq825', 'emerging', '10k', 'brothers', 'old', 'once', 'answered', 'lounge', '87575', '37819', 'vinobanagar', 'starting', 'department', 'content', '50pm', 'marine', 'taunton', 'trebles', 'bus', 'cricket', 'roger', 'bruce', 'daily', 'maximum', '50rcvd', 'diddy', 'comes', 'dogwood', 'shopping', 'themed', 'moment', 'neither', 'havnt', 'spiritual', 'smsrewards', 'bam', 'hotels', 'props', 'cornwall', '3230', 'opinion', 'resolved', 'confuses', 'lac', 'cough', 'appear', 'smashed', 'wind', 'collect', 'exciting', 'mention', 'cosign', 'among', 'dignity', 'oble', 'poly', 'inr', 'gonnamissu', 'that', 'andre', 'blame', 'curtsey', '0430', 'comin', 'wotz', 'mite', 'showr', '89070', 'idew', '447797706009', 'packing', 'olage', '4get', 'neshanth', 'acid', '1st', '1172', 'taka', 'dollars', 'frmcloud', 'program', 'vague', 'zaher', 'floppy', 'sayhey', 'sall', 'afraid', 'crckt', 'gotany', '12mths', 'tiny', 'fri', 'bein', 'approaches', 'phrase', 'italian', 'refund', 'reaching', 'jod', 'accidant', 'grooved', 'tons', 'tallent', 'dedicated', 'hum', 'pop', 'ironing', 'usf', 'crore', 'bright', 'hai', 'initiate', 'starts', 'fletcher', 'yan', 'bday', 'match', 'steamboat', 'uwana', '30s', 'probs', 'social', 'fm', 'lk', 'special', '38', 'il', 'todo', 'txtauction', 'carpark', 'exposed', '700', 'gpu', 'shouted', 'fishrman', 'earth', 'pobox365o4w45wq', 'participate', 'knackered', 'insurance', '28', 'caps', 'wrc', 'proper', 'cocksuckers', 'fffff', 'random', '09061701444', 'establish', 'profiles', 'men', '09071517866', 'moral', 'apart', 'dont', 'crucify', 'various', 'violet', '3lp', 'modules', 'going', 'everyday', 'specific', 'through', 'disagreeable', 'shesil', 'deltomorrow', 'trust', 'bergkamp', 'transfered', 'rebtel', 'christmas', '09064012160', 'evrey', 'hugs', 'wedding', 'px3748', '09064018838', 'abroad', '1327', 'beloved', 'grateful', 'woken', 'whatsup', 'timings', 'latr', 'calling', 'rencontre', 'maintain', 'definitly', 'available', 'urgent', 'killing', 'solihull', 'carlin', 'laying', 'lady', 'paris', 'hundred', 'fancied', 'dudette', 'ad', 'analysis', 'didntgive', 'smsco', 'nitz', 'nudist', 'liked', 'means', 'possessiveness', '50award', 'painting', 'hmmross', 'umma', 'kit', 'motivate', 'orig', 'hang', 'beneath', 'webadres', 'arab', 'cali', 'bugis', 'remind', 'record', 'pole', 'misundrstud', 'post', 'childrens', 'guaranteed', 'bottle', 'sirji', 'jewelry', '300p', 'resizing', 'mindset', 'ummifying', 'hubby', 'birthday', 'footprints', 'duchess', 'token', 'dsn', 'ericsson', 'john', 'kaiez', 'remembered', 'blocked', 'nearby', 'visit', 'f4q', 'ore', 'nitw', 'pookie', 'are', 'les', 'unkempt', 'bilo', 'prem', 'gave', 'step', 'blue', 'sppok', 'icicibank', 'painful', 'twittering', 'split', 'mwahs', 'txting', 'cud', 'admit', '8lb', '310303', 'pongal', 'will', 'entirely', 'were', 'relax', 'slow', 'can', 'juliana', '08718723815', 'whom', 'owns', '1956669', 'w1j6hl', 'funeral', 'regular', 'mind', 'owned', 'convincing', 'takecare', 'distract', '09058095201', 'extra', 'been', 'maid', 'msgrcvdhg', 'dogs', 'rs', 'partner', '021', 'sagamu', 'thirunelvali', 'easter', 'tayseer', 'wenever', 'lazy', 'ffffuuuuuuu', 'c52', 'ithink', 'sef', 'growing', 'swiss', 'ecstacy', 'tuition', 'meds', '32000', 'asjesus', 'gay', 'ya', 'compulsory', 'housework', 'wendy', 'proverb', 'alone', 'unsold', 'nino', 'ctagg', 'here', 'community', 'talks', 'chance', 'track', 'massages', 'lei', 'sucks', 'box334', 'lane', 'worms', 'followed', '6', 'dammit', 'crazyin', 'syria', 'greatness', 'acting', 'lambu', 'boye', 'shanghai', 'okday', 'even', 'throw', 'preponed', '4thnov', 'dual', 'aldrine', 'prakesh', '9758', 'youdoing', 'la3', 'refreshed', 'writhing', 'implications', 'dryer', 'com', 'emailed', '89555', '08712317606', 'norcorp', 'previews', 'jabo', 'makes', 'varaya', 'frying', 'lido', 'theres', 'ceiling', 'maths', 'rebooting', 'welcome', 'ntt', 'actor', '08717507382', 'escalator', '80878', 'txttowin', 'anti', 'fiting', 'hiding', 'largest', 'gentle', 'j5q', 'mgs', '1stone', 'skype', 'booty', 'negative', 'or2optout', 'stunning', 'reasons', 'regalportfolio', 'curfew', 'capital', 'size', 'colin', 'subscriptn3gbp', 'bawling', 'finished', 'pleased', 'phb1', 'sheet', 'w8in', '08719181503', 'desert', '08707500020', '30pm', 'straight', 'db', 'evn', 'onbus', 'korean', 'rewarding', 'scratches', 'hand', 'attributed', 'given', 'audrie', 'ts', 'sponsors', 'any', '84128', 'tongued', 'polyh', 'starring', 'erupt', 'fool', 'touch', 'wherevr', '69696', '07808726822', 'drugdealer', 'smeone', 'recognise', '872', '151', 'curious', 'tool', 'cw25wx', '0871277810810', 'nuerologist', 'footbl', 'depression', 'stuffs', '7684', 'vomitin', '97n7qp', 'lionp', 'spouse', 'kettoda', 'stayed', 'astoundingly', 'abel', 'brisk', 'serious', 'failure', 'jersey', 'vary', 'tlp', 'okmail', 'amore', 'ice', 'vivekanand', 'morphine', 'that2worzels', 'replace', 'nokia', 'acc', 'tomorrow', 'dialogue', 'curry', '08709222922', 'tming', 'mandan', 'bitching', 'senor', 'eshxxxxxxxxxxx', 'hardest', 'creepy', 'rcv', 'types', 'failing', 'unintentional', 'adi', 'tomorw', 'odi', 'players', '7634', 'athletic', 'instructions', 'laready', 'piah', 'm26', 'heap', 'argument', 'hostile', 'little', 'noi', 'cann', 'callertune', 'networking', 'taxless', 'callers', 'melody', 'monos', 'golf', 'guesses', 'western', 'lyricalladie', 'weaseling', 'police', 'elsewhere', '3680', 'noon', 'hides', 'guai', 'weds', 'nice', 'resume', 'marking', 'printer', '60', 'wherever', 'surprise', 'prepaid', 'month', 'choosing', 'younger', 'doggy', 'aathi', 'sum1', '250k', 'philosophical', 'crack', '4mths', 'fit', 'field', 'promptly', 'warned', 'camry', 'specs', 'n9dx', 'malarky', '2exit', 'shitstorm', 'eighth', 'personal', 'jsut', '89938', 'xy', 'detroit', 'remb', 'muhommad', 'bleak', '6089', 'xavier', 'update_now', 'reassurance', 'roommates', '1winaweek', 'bak', 'change', 'firmware', 'figure', 'snoring', 'helpful', 'completely', 'disasters', 'completes', 'doinat', 'canceled', 'value', 'spoke', 'appreciate', 'voice', 'purple', 'toothpaste', 'cyclists', 'football', 'aid', 'buns', 'postcard', 'ger', 'lick', 'owl', 'edge', 'anand', 'affections', 'denying', 'antibiotic', 'genus', 'news', 'ok', 'honeymoon', 'chicken', 'accomodate', 'aunt', 'recession', 'o2', 'ne', 'splleing', 'would', 'canal', 'spreadsheet', 'raed', 'tookplace', 'si', 'jurong', 'ambrith', 'sheffield', '087018728737', 'difficulties', 'hanks', 'him', 'gained', 'bollox', 'lyf', 'ana', 'to', 'ploughing', 'soundtrack', 'prizes', '5wb', 'nw', 'suppose', 'valuable', 'black', 'balloon', 'neighbor', 'must', '2morrow', 'b4190604', 'salesman', 'data', 'slice', 'happend', 'isn', 'syllabus', 'christians', 'driver', 'goodies', 'purchase', 'exe', '09094100151', 'quizzes', 'quality', 'memorable', 'msn', '08718726978', 'garbage', 'lamp', 'minute', 'provided', 'happen', '09066612661', 'gailxx', 'greetings', 'bcm', 'capacity', 'vava', 'lion', 'shit', 'xuhui', 'bud', 'hurried', 'chit', 'coherently', 'treated', 'walked', 'eventually', 'listening', 'walsall', '09064015307', 'woozles', '09058095107', 'digi', 'lionm', 'yalrigu', 'imat', 'breakfast', 'interview', 'real1', 'excellent', 'baaaaabe', 'moan', 'bring', 'alle', 'everythin', 'smartcall', 'manage', 'ip4', 'gaps', 'atrocious', 'romcapspam', 'facebook', 'religiously', 'j', 'arguing', 'renting', 'careful', 'sight', 'whoever', 'worry', 'pink', 'allalo', 'outgoing', 'necessarily', 'crickiting', 'total', 'tahan', 'bash', 'figuring', 'lot', '09071512433', 'maangalyam', 'melt', 'hppnss', 'tonite', 'swayze', 'questions', 'takes', 'form', 'oyster', 'anal', 'u2moro', 'dept', 'bonus', 'stuff42moro', 'speedchat', 'adrink', 'jide', 'shelf', 'vilikkam', '1120', 'aiyah', 'rtf', 'smacks', 'coughing', '2wks', 'dps', 'watever', 'myspace', '7am', 'wasting', 'barely', 'ge', 'missionary', 'hallaq', '3030', 'handsome', 'dave', 'statement', 'vargu', 'spageddies', 'braindance', 'bbdeluxe', 'sunny', 'sorry', 'bedroom', 'worthless', 'leafcutter', 'edrunk', 'shangela', 'uwant', 'smiling', 'illspeak', 'servs', 'clas', 'physics', 'cold', 'cultures', 'spice', 'gain', 'tablets', 'repeat', 'truck', 'disc', '87121', 'sleep', 'lil', '3hrs', '09061701461', 'educational', 'others', 'rum', 'lucy', 'shortage', 'head', 'careers', 'dizzamn', '09058099801', '81010', 'aint', 'harish', 'heater', 'se', 'silver', '08704050406', 'removal', 'fizz', 'anythingtomorrow', 'seconds', '09053750005', 'story', 'calls', 'alter', 'laptop', 'lower', 'treatin', 'cloud', 'recorder', 'offer', 'asssssholeeee', 'sell', '600', '2p', '30pp', 'staying', 'golden', 'valuing', 'statements', 'unrecognized', 'manda', 'ahhhh', 'basq', 'finishes', '7mp', 'booking', 'rg21', 'reality', 've', 'wee', 'ptbo', 'fidalfication', 'learned', 'put', 'colleg', 'weight', 'premium', 'unredeemed', 'mall', 'consensus', 'battle', 'okie', 'jiu', 'd3wv', 'tolerat', 'fonin', 'taking', 'harlem', '2gthr', 'answerin', 'cinema', 'atural', 'argentina', 'treats', '09094646631', 'cnn', 'lessons', 'secured', 'voicemail', 'withdraw', 'during', 'sleepin', '2wt', 'excuse', 'mah', 'breaker', 'srsly', 'hsbc', 'name', 'satisfy', 'wn', 'watch', 'smell', 'hope', 'walking', '40', 'firsg', '4041', 'bike', 'hme', 'jd', 'duffer', 'talents', 'job', 'clearer', 'answers', 'particularly', 'brainless', 'think', 'lecturer', '08712402902', 'rental', 'female', 'fret', 'fo', 'evry', '50ea', 'ibm', 'offense', 'funky', 'clarify', 'swtheart', 'excuses', '15pm', 'sections', 'lap', '2nd', 'mac', 'smokes', 'subs16', 'absolutely', '5', 'yrs', 'nosy', 'driving', 'shexy', 'directly', 'bin', 'w111wx', 'goverment', '4w', 'butting', 'telling', 'icic', 'cts', 'wall', 'neekunna', 'ofstuff', 'classes', 'murdered', 'realy', '4years', '89080', 'index', 'lightly', 'impede', 'xxxxxxx', 'wow', 'less', 'dt', 'b4', 'msging', 'oxygen', 'flaked', 'm8s', 'evrydy', 'colourful', 'add', 'mmmm', 'cbe', 'tiwary', 'dropped', 'itna', 'jada', 'ditto', 'desparately', 'anna', 'moms', 'tattoos', 'sw7', 'yummy', 'crap', '08448714184', 'cost', '4info', '08715203652', 'tosend', 'discount', 'vry', 'creep', 'poet', '2yr', 'day', 'practicing', 'anot', 'connections', 'monday', 'la1', 'videosounds', 'past', 'jess', 'blimey', 'pesky', 'epi', 'disturbing', 'chatlines', 'occasion', '2005', '09061701939', 'downstem', 'tmorow', 'imposter', 'know', 'reason', 'prepare', 'wizzle', 'tactless', 'randomly', 'noisy', 'spose', '82242', 'bet', 'register', '0870737910216yrs', 'unknown', 'ericson', 'happy', 'laid', 'wesley', 'study', 'plyr', 'installing', 'lovin', 'recieve', 'increase', 'lily', 'passed', 'bfore', 'accommodation', 'looked', 'yay', '24', 'burgundy', 'responce', 'singing', 'center', 'per', 'linux', '89693', 'w', '08448350055', 'speed', 'ansr', 'ipad', 'nose', 'cast', 'ji', 'alfie', 'fifteen', 'exorcist', 'letter', 'enuff', 'jaya', 'beside', 'soft', '08717168528', '49557', 'ghodbandar', 'hi', '000', 'handset', 'young', 'melnite', 'about', 'full', 'tea', 'brains', 'user', 'humans', 'dreams', 'drop', 'hunks', 'winning', 'measure', 'ill', 'this', 'drink', 'matric', 'm39m51', 'bari', '5ish', 'stopped', 'dismay', 'abi', 'twenty', 'langport', 'found', 'plus', 'surprised', 'nan', 'llc', 'askd', 'tmorrow', 'tour', 'lol', 'call2optout', 'ela', 'weighed', 'astrology', 'radiator', 'gr8prizes', 'randy', 'toplay', 'spell', 'resolution', 'layin', 'adjustable', 'guides', 'thanksgiving', 'replacement', 'oncall', 'wondering', 'constantly', 'stand', 'tomo', 'jazz', 'sucker', '008704050406', '09066362231', 'yours', 'll', 'gigolo', '09', 'anybody', 'a', 'l8er', 'pilates', 'printed', '1225', 'borderline', 'ur', 'significant', 'invitation', 'lose', 'mega', 'hurting', 'took', 'vu', 'farting', 'visa', 'pre', 'tcr', 'netun', 'forward', '0796xxxxxx', 'praveesh', '92h', 'grinule', 'system', 'laxinorficated', 'fr', 'shoranur', 'freshers', 'lrg', '2007', 'essay', 'decimal', 'yunny', '4wrd', 'enna', 'doke', 'moments', 'above', 'lttrs', 'bpo', 'family', 'university', 'numbers', 'tickets', 'frndshp', 'ciao', 'much', '08714712388', 'slots', 'secret', 'helens', 'dot', 'wud', 'knees', 'atten', 'jo', '6hl', 'meanwhile', 'vomit', 'hurricanes', 'cardin', 'teaches', 'these', 'thesmszone', 'life', 'sometimes', 'neo69', 'chiong', 'collected', 'waqt', 'ec2a', 'belongs', '08714342399', 'bed', 'wanted', 'intend', 'blanked', 'twins', 'god', 'radio', 'point', 'gent', 'lookatme', 'drove', 'assessment', 'meg', 'uttered', 'hangin', 'matra', 'clark', 'how', 'proze', 'tncs', 'pool', '09050090044', 'kicks', 'machines', 'cuddling', 'wasn', 'speak', 'reboot', 'begin', 'aging', 'served', 'awww', 'algorithms', 'thuglyfe', '68866', 'feelingood', 'part', 'whos', 'amplikater', 'sptv', 'stairs', 'true', 'starve', 'frndsship', 'diet', 'citylink', 'online', 'results', 'browsin', '08702840625', 'allowed', 'snowboarding', 'coincidence', 'jogging', 'broke', 'tau', 'tok', 'fraction', 'colleagues', 'land', 'msgrcvd', 'cutest', 'which', 'newspapers', 'crammed', 'ish', 'attack', 'entered', 'awesome', 'okors', 'nuther', 'eh', 'woodland', 'hrs', 'pax', 'hittng', 'quiz', '077xxx', 'karo', 'frosty', 'nmde', 'loyal', 'missions', 'shrek', 'idk', 'bray', 'cine', 'hooked', 'interested', 'hanuman', 'kg', 'understood', 'describe', 'complimentary', 'whether', 'forth', 'constant', '5free', 'nelson', 'inclu', 'restocked', 'finishing', 'favorite', 'shitin', 'saturday', 'situation', 'barring', 'guoyang', 'seen', 'colour', 'doctor', 'dload', 'cro1327', 'meat', 'romantic', 'image', 'small', 'eachother', 'miserable', 'sleepwell', 'mc', 'oh', 'innings', '07xxxxxxxxx', 'photos', 'vco', 'uworld', 'route', 'went', 'date', 'serena', '86888', 'weirdo', 'selflessness', 'num', 'alcohol', 'credit', 'matrix3', 'dysentry', 'differ', 'freaking', 'throwin', 'yhl', 'unique', 'spile', 'also', '6hrs', 'wipro', 'start', '5000', 'seemed', '69888', 'tarpon', 'carly', 'ache', 'boo', 'm227xy', 'clubsaisai', 'dough', '09066358152', 'lions', 'rumbling', '5we', 'breaking', 'everybody', 'bcums', 'whenever', 'wildlife', '87066', 'confirmd', '2004', 'abbey', 'charge', 'spent', 'invaders', 'macho', 'luckily', 'exercise', 'tones2u', 'magic', 'scorable', 'in', 'early', 'nos', '083', 'edu', 'l8tr', 'hitler', 'uawake', 'stash', '2814032', 'pin', 'pobox45w2tg150p', 'buying', 'wnt', '09064012103', 'ko', 'deal', 'audiitions', 'manchester', 'trains', 'handsomes', 'pm', 'maneesha', 'scarcasim', 'polys', 'safety', 'interflora', 'panther', 'presence', 'gari', 'skilgme', 'pobox12n146tf15', '09061744553', 'asleep', 'corrupt', 'meive', 'dbuk', 'ofsi', '434', 'youre', 'gloucesterroad', 'sariyag', 'hahaha', 'warwick', 'flights', 'pleasant', 'wavering', 'edison', 'hearin', '08717509990', 'deficient', 'downs', 'flood', 'buses', 'organise', 'attended', 'my', 'memory', 'xam', 'sf', 'eurodisinc', 'again', 'infra', 'bear', 'timi', 'lim', 'prove', 'delay', 'skirt', 'mylife', 'expires', 'slacking', 'wiv', '08000930705', 'conserve', 'nobbing', 'nevering', 'period', 'afterwards', 'texd', 'halla', 'sphosting', 'skye', '2lands', '2wu', '08712405022', 'swimming', 'tests', 'expired', 'dumb', 'ref', 'truffles', 'february', 'cysts', 'machi', 'lots', 'max6', 'lodge', 'victors', 'opt', 'costa', 'm263uz', 'rp176781', 'hoody', 'senthil', 'stamped', 'agalla', 'everyboy', 'bk', '75max', 'bot', 'urawinner', 'brand', 'secondary', 'hills', 'womdarfull', 'wun', '09058094454', 'promo', 'ertini', 'then', 'pest', 'enough', 'energy', 'basketball', 'paying', 'intentions', 'surfing', '08001950382', '08002988890', 'drunkard', 'sale', 'lucozade', 'redeemable', 'zoe', 'iraq', '40533', '850', 'flyng', 'box420', 'shd', 'lifebook', 'couldn', 'cookies', 'tue', 'zyada', 'trusting', 'trained', 'wml', 'rajini', 'process', 'hospital', 'happily', 'five', 'answering', 'riley', 'perf', 'keep', 'ar', 'velachery', 'earlier', 'shakara', 'mns', '50perwksub', 'nagar', 'stone', 'uncut', 'causing', 'wake', 'postal', 'mates', 'aboutas', 'nìte', 'spook', 'goodtime', 'cancel', 'topic', 'supposed', 'wishes', 'activ8', 'hav2hear', 'sculpture', 'raglan', 'ujhhhhhhh', 'dormitory', 'traveling', 'nightnight', 'xxxxxxxxxxxxxx', 'including', 'box245c2150pm', 'knows', 'technical', 'usher', 'inshah', 'sk38xh', 'robs', 'played', 'lst', 'sympathetic', 'heal', 'declare', 'talked', 'aom', 'aka', 'closeby', 'wants', 'ow', '0871212025016', 'asthere', 'pissed', 'group', 'enemy', 'arcade', 'k61', 'fulfil', 'al', 'banks', 'tho', 'easily', 'mittelschmertz', 'environment', 'falls', 'expression', 'mids', 'living', 'ldn', 'wild', 'muht', 'jeevithathile', 'spring', 'lik', 'limit', '08700435505150p', 'titles', 'explain', 'monkeys', 'nokia6650', 'nri', 'spotty', '84122', '4my', '09701213186', 'almost', 'tendencies', 'bruv', 'comprehensive', 'envelope', 'anything', 'based', '69911', 'stoptxtstop', 'coach', 'pobox114', '25p', 'spoil', 'perhaps', 'tried', 'receipts', 'v', 'web2mobile', 'sports', 'shudvetold', 'last', 'until', 'hillsborough', 'stay', 'suffers', 'sth', 'times', 'dabbles', 'invention', 'natalie2k9', 'leading', 'ma', 'supports', '1win150ppmx3', 'plumbers', 'konw', 'dirty', 'pan', 'cloth', 'dance', 'nipost', 'opted', '4utxt', 'swear', 'dogging', 'textoperator', 'building', 'baby', 'slightly', 'indeed', 'bristol', 'express', 'wright', 'imp', 'grow', 'q', 'occurs', 'telephone', 'mobstorequiz10ppm', 'sea', 'shoot', 'soooo', 'hon', 'wana', 'summer', 'companion', 'fifth', 'stressed', 'christ', 'lies', 'seem', 'twelve', 'bettersn', 'eerulli', 'morning', 'slap', 'cars', 'cu', 'role', 'yifeng', 'verify', 'towards', 'meant', 'corrct', 'gre', 'souveniers', 'engagement', 'looks', 'mutai', 'possibly', '08715705022', '09058097218', 'betta', '10', 'downloaded', 'ones', 'jolt', 'heading', 'sry', 'plz', '7548', 'nanny', 'sathy', 'across', 'urgh', 'smiled', 'someone', 'build', 'yourself', 'finds', 'heat', 'masters', 'fucked', 'legal', 'replied', 'celebration', '08712405020', 'joanna', 'error', 'files', 'theoretically', 'status', 'oooh', '2find', 'brum', 'l8r', '087187262701', 'hasnt', 'census', 'ringing', 'sunroof', 'vid', 'shijutta', 'flip', '100percent', 'deep', 'groovy', 'wotu', 'bye', '150pw', 'ese', 'buddys', 'teacher', 'gets', 'feeling', '24m', 'foregate', 'urgran', 'silence', 'delicious', 'kalstiya', 'death', 'sam', 'spontaneously', 'graduated', 'opposed', '0', 'request', 'contacts', 'clubzed', 'foreign', '5249', 'housewives', 'hours', 'andrews', 'toa', 'duvet', 'bout', 'years', 'welcomes', '07008009200', 'jan', 'revealing', 'muah', 'fees', 'iwana', 'hf8', 'midnight', 'farrell', '80122300p', 'casualty', 'divorce', 'power', 'unconvinced', 'pimples', 'throat', 'popcorn', 'quit', 'retrieve', 'bbd', '08719181259', '09057039994', 'package', 'violated', 'kay', 'unusual', 'regards', '08717890890', '08712460324', 'sudn', 'tone', 'sporadically', 'reacting', 'moves', 'girlfrnd', 'wen', 'organizer', 'computational', 'reformat', 'summers', '07801543489', 'deeraj', 'dd', '08718738034', 'girl', 'degree', 'en', 'pay', 'bread', 'mornin', 'copy', 'psychiatrist', '09065069154', 'sn', 'jst', 'official', 'restock', '2667', '3rd', 'panasonic', 'flirtparty', '08712101358', 'fuck', 'texted', 'hungry', 'unsubscribe', 'msgs', 'words', 'tonight', 'digits', 'shaping', 'she', 'selection', 'whens', 'sos', 'rhythm', 'understand', '4ward', 'ordinator', '6months', 'mom', 'uploaded', 'brilliant', 'hot', 'seriously', 'could', 'chikku', 'notified', 'portege', 'amused', 'browse', 'docs', 'body', 'weekly', '0207', 'predictive', 'epsilon', 'logged', '4xx26', 'singles', 'weiyi', 'forgiven', 'revealed', 'ondu', 'class', 'sink', 'turns', 'ni8', 'pura', 'pause', 'verified', 'info', 'mitsake', 'vehicle', 'ran', 'landlineonly', 'whilltake', 'uptown', 'fullonsms', 'ritten', 'dancing', 'pocay', 'previous', 'cha', 'ryan', '8552', 'hole', 'jules', '35p', 'penis', 'pro', 'wthout', 'amt', 'yi', '88039', 'passport', 'scared', 'customer', 'posible', 'bevies', 'neighbors', 'terrific', 'scool', 'horrible', 'boston', 'sae', 'management', 'woman', 'does', 'hamster', 'apo', 'campus', 'loving', 'durban', 'rest', 'gravity', 'wa14', 'cousin', 'printing', 'philosophy', 'every', 'guilty', 'heaven', 'bloomberg', 'z', 'dvd', 'craving', 'cttergg', 'box403', 'basic', 'lobby', 'shop', 'toughest', 'ashley', 'fab', 'check', 'woot', 'meet', '0800', 'doubles', 'pierre', 'ful', '08707509020', 'grownup', 'grocers', 'chords', 't', 'stopcost', 'chill', 'dane', 'inconsiderate', 'reminds', 'xxxxxxxx', 'wo', 'bedrm', 'with', 'current', 'ovarian', 'renewal', 'bck', '1thing', 'frwd', 'expensive', 'rings', 'deposited', 'officially', 'belligerent', 'came', 'correction', 'palm', 'satthen', 'dorothy', 'action', '220', 'later', '7250i', 'dwn', 'crossing', 'upping', 'fixed', 'totes', 'stays', 'fassyole', 'caroline', 'onion', 'appy', 'hogolo', 'weekend', 'faster', 'pert', '09065394973', 'ga', 'propose', 'needle', 'interest', 'tirunelvali', 'decide', 'cruisin', 'fro', 'vijay', 'blankets', 'finn', 'cliffs', 'natural', '08712466669', 'vibrator', 'quiteamuzing', '2morro', 'propsd', 'cm', 'wrongly', 'minmoremobsemspobox45po139wa', 'luxury', 'snake', 'lines', 'prakasamanu', 'fans', 'boat', 'lingerie', 'ruin', 'owo', 'perfect', 'adam', 'teeth', 'kalaachutaarama', 'resent', 'machan', 'possible', 'movies', 'beauties', 'racing', 'piggy', '09050005321', 'aft', 'woods', 'joining', 'wahay', 'dai', 'middle', 'stop2stop', 'navigate', 'satisfied', 'nething', 'amazing', 'compliments', 'gold', 'really', 'draw', 'except', 'gek1510', 'second', 'ship', 'feel', 'shortcode', 'sing', 'wallet', 'sugardad', 'pics', 'wtc', '1013', 'dey', 'select', 'them', 'other', 'liver', 'box334sk38ch', 'couple', 'algarve', '08701237397', 'ola', 'samus', 'challenge', 'swat', '28th', 'danger', 'invest', 'charles', 'dnot', 'habba', 'individual', 'networks', '6days', 'cannot', 'bstfrnd', 'pleassssssseeeeee', 'thin', 'on', 'birla', 'today', 'formatting', '08718727868', 'performed', 'atlast', 'stage', 'concentration', '4403ldnw1a7rw18', 'vouchers', 'unless', 'thts', '75', 'avin', 'msg', 'tell', 'site', 'dirtiest', 'gentleman', 'projects', 'latests', 'magazine', 'b', 'beth', 'fromm', 'bowl', 'flew', 'shanil', 'annoncement', '300603t', 'file', 'prestige', 'dude', 'chosen', 'ink', '6031', 'trips', 'jerry', 'helen', 'ending', 'papa', 'mrt', 'fumbling', 'hair', 'behind', 'reasonable', 'buzz', 'improve', 'made', 'monkeyaround', 'pours', 'apologize', 'apes', 'tyrone', 'loveme', 'chinchillas', 'innocent', 'coast', 'hesitate', 'age', 'spun', 'closes', 'digital', 'del', 'nights', 'likes', 'praying', 'u4', 'headin', 'eleven', 'goggles', 'oath', 'points', 'instead', 'waking', 'room', 'telephonic', 'helpline', 'hotmail', '14tcr', 'train', 'corect', 'dena', 'noice', 'decided', 'bluetooth', '28days', 'courage', 'bribe', 'customercare', 'lib', '08712103738', 'hearing', 'sending', 'module', '116', 'speeding', 'thru', 'torture', 'box434sk38wp150ppm18', 'ken', 'optout', 'cried', 'occupied', 'peach', 'replying', 'talkbut', 'shoul', 'rally', 'iq', 'fault', 'cooked', 'whn', 'liao', 'ads', 'useless', '1000s', 'thk', 'northampton', 'becoz', 'registration', 'um', 'ams', 'gas', 'vijaykanth', 'didn', 'chances', 'sister', 'punch', 'payee', 'said', 'batchlor', 'risks', 'hiphop', 'benefits', 'ryder', 'yoyyooo', 'lost', 'singapore', 'eveb', 'subtoitles', 'sathya', '128', 'chinnu', 'nigpun', 'yaxx', 'vital', 'ba', 'simpsons', 'liquor', 'pockets', 'uncle', 'village', 'loss', 'promises', 'function', 'wrkin', 'used', 'smiles', 'kano', 'joys', 'sigh', '7876150ppm', 'bloke', 'mmsto', 'demand', 'blah', 'oz', 'poem', 'lor', 'toshiba', 'marandratha', 'postcode', 'bags', 'redeemed', 'dieting', 'nurungu', 'signal', 'avoiding', 'done', 'and', 'claims', 'lotr', '09056242159', 'hyde', 'defo', 'cl', 'mathews', 'appreciated', 'keluviri', 'pick', 'forgot', 'payment', 'callcost150ppmmobilesvary', 'w1a', 'flash', 'mistake', 'fresh', 'return', 'jas', 'remove', 'correctly', 'asusual', 'gf', 'send', 'addamsfa', 'sorting', '08002986906', 'visitor', 'toaday', 'gayle', 'mmm', 'gbp', 'subscription', 'while', 'leadership', 'j89', 'waliking', 'aluable', 'thia', 'sofa', 'customers', 'non', 'lul', 'braved', 'realizes', 'quite', 'rise', 'comb', 'planettalkinstant', 'seems', 'fancies', 'discreet', 'mojibiola', 'yup', 'lyfu', '09063440451', 'heehee', 'str8', 'finding', 'finest', '050703', 'orange', 'reset', 'shy', 'oranges', 'treasure', 'ned', 'prince', 'spelled', 'hectic', 'possibility', 'priscilla', 'noworriesloans', 'down', 'pobox202', 'havn', 'mode', 'bite', 'uh', 'goodnite', 'theirs', 'dates', '515', 'r', 'brothas', 'cutefrnd', 'photo', 'colany', 'callfreefone', 'sunshine', 'values', 'noun', 'slippers', 'melle', 'wer', 'dead', 'spacebucks', 'mess', 'local', 'freemsg', 'moseley', '80488', 'punish', 'nok', 'prevent', 'making', 'stop', 'lie', 'include', 'nange', 'bcz', 'knowing', '3000', 'jamster', 'nyt', 'location', 'source', 'grandma', '08719839835', 'wicket', 'hands', 'desires', '32323', 'happening', 'baller', 'pizza', 'ppt150x3', 'performance', 'cops', 'upstairs', 'opening', 'franxx', 'secretary', 'falconerf', 'darkest', 'urself', '29', 'kfc', 'sterling', 'til', 'checkmate', 'gei', 'mys', 'pity', 'weddingfriend', 'biggest', 'scrumptious', 'fml', 'gr8', '08700469649', 'badrith', 'gibe', '165', 'simonwatson5120', 'strongly', '09050280520', 'maretare', 'londn', 'block', '09111030116', '9pm', 'perform', 'tddnewsletter', 'creative', 'home', '1b6a5ecef91ff9', 'sterm', 'taste', 'shaved', 'losers', 'missing', 'roads', 'having', '09050000928', '83435', '62735', 'huai', 'ffffffffff', 'arabian', 'nd', 'breeze', 'bat', 'handle', 'ta', '4u', 'grahmbell', '98321561', 'quick', 'dobby', 'stress', 'th', '4few', 'yes', 'dog', 'winner', 'icmb3cktz8r7', '09058097189', 'valentines', 'jontin', 'rememberi', 'roller', 'patrick', 'howard', 'name1', 'wasnt', 'joking', 'seing', 'decision', 'pouts', 'thgt', 'strewn', 'improved', 'desparate', 'edhae', 'msg150p', '300', 'taylor', 'txtstar', 'wife', 'rolled', '8714714', 'signin', 'symptoms', 'urgently', 'prizeswith', '09061104283', 'wt', 'jon', 'wkg', 'library', 'map', 'jamz', 'underdtand', 'wallpaper', 'setting', 'unhappiness', 'putting', 'pressure', 'order', 'govt', '16', 'dippeditinadew', 'becomes', 'mornings', 'nr31', 'relatives', 'tsandcs', 'conform', 'sony', 'auction', 'iscoming', 'sweetest', 'bill', 'dearer', '83118', '100txt', 'warning', 'ideas', 'goodnoon', 'inch', 'sabarish', 'erode', 'olympics', 'theacusations', 'txtx', 'strtd', 'mobile', 'purse', 'sooooo', 'snow', '3d', 'board', 'keyword', 'enjoy', 'independence', '2watershd', '523', 'wifi', 'cute', 'deck', '05', 'persolvo', 'haf', '7zs', 'ayn', 'das', 'cramps', 'directors', 'calculated', 'french', 'buyer', 'hu', 'leave', 'playin', 'cleared', 'sinco', 'doggin', 'minecraft', '86021', 'under', 'coat', 'tues', 'lager', 'hv9d', 'unclaimed', 'gotten', 'card', 'tohar', 'applausestore', 'dino', 'dodgey', '10ppm', 'unbreakable', 'oooooh', 'shower', 'hotmix', 'cuck', 'bcm4284', 'thnk', 'contract', 'haventcn', 'goals', 'steps', 'mtmsg', 'aah', 'urn', 'vip', '139', 'planning', '09058091854', '09061743806', 'scotland', 'raining', 'recycling', 'arent', 'drpd', 'politicians', 'stories', 'wings', '8th', 'tyler', 'dismissial', 'air1', 'fudge', 'unhappy', 'mint', 'giv', 'monkey', 'citizen', '40mph', 'shocking', 'personality', '41782', 'stuck', 'weird', 'cochin', 'dangerous', 'nursery', 'all', 'however', 'permissions', 'staring', 'swatch', '74355', '89123', 'triple', 'milk', 'sign', 'format', 'inches', 'delivery', 'soon', 'murder', 'everything', 'hanumanji', 'smidgin', 'deciding', 'jus', 'themob', 'guessing', 'toyota', 'gamestar', '0871750', 'stolen', 'expressoffer', 'tocall', 'fave', 'showing', 'mobs', 'publish', 'acknowledgement', 'iouri', 'title', 'loyalty', 'subscribed', 'blacko', 'totally', 'gate', 'cleaning', 'chrgd', 'sticky', 'closingdate04', '2c', 'person', 'deviousbitch', 'cal', 'vipclub4u', 'dogg', '09050000301', 'posts', '8007', 'sary', 'dawns', 'december', 'dictionary', 'guitar', 'apt', 'greece', 'sweetie', '08002888812', 'arrived', 'camp', 'tap', 'venaam', 'spoken', 'iphone', '07090201529', 'cuppa', '1da', 'late', 'congrats', 'responding', 'contacted', 'norm150p', 'barrel', 'wiskey', 'standing', 'iam', 'parade', 'euro2004', 'coco', 'stands', 'w1j', 'bang', '0789xxxxxxx', '69200', 'weekends', 'pump', 'malaria', 'work', 'contains', 'jot', '08701417012150p', 'youwanna', 'calm', 'armenia', 'tight', 'pehle', 'fails', 'freephone', 'afternoon', 'floor', 'secretly', 'cheesy', 'mentionned', 'tb', 'saibaba', 'involved', 'google', 'sharing', 'selected', 'rdy', 'intrepid', 'mahal', 'apeshit', 'couch', 'disclose', 'ovr', 'goigng', 'round', '5226', 'compensation', 'fifty', 'college', 'conducts', 'mums', '1er', 'buy', 'frens', 'snickering', 'gaze', 'goodmorning', '140ppm', 'congratulation', 'fatty', 'synced', 'verifying', 'poortiyagi', '150pm', 'vouch4me', 'bangbabes', 'kadeem', '2mwen', 'url', 'innu', 'first', 'pt2', 'nigh', '6times', 'andres', 'sem', 'dedicate', 'dabooks', 'ipads', 'horo', 'darlin', 'sherawat', 'doubt', 'rec', 'poyyarikatur', 'owe', 'short', 'ovulation', 'factory', 'fellow', 'outreach', 'messaged', 'chain', 'antelope', 'exeter', 'concern', 'tim', 'fooled', 'issues', 'aren', 'edition', 'give', 'someonone', 'trouser', 'virtual', 'baaaaaaaabe', 'toilet', 'rodds1', 'literally', '88800', 'secrets', 'flavour', 'ourbacks', 'priya', 'slaaaaave', 'address', 'watchng', 'pansy', 'when', 'licks', 'pure', 'reache', 'gym', 'temp', 'crying', 'wan', 'pulling', 'rayman', 'multis', '2go', 'balls', '08701417012', 'tc', 'hmv', 'hl', 'spelling', 'brin', 'thandiyachu', 'wating', 'loxahatchee', 'mo', 'dats', 'normally', 'rule', 'reach', '08712402050', 'usb', 'appeal', 'gauti', 'professors', 'makiing', 'double', 'is', 'violence', 'reckon', 'call', 'checkin', 'fancy', 'subscriptions', '3mins', 'amigos', '08715203677', 'style', 'la', 'feellikw', 'em', 'note', '09061701851', 'havebeen', 'jaz', 'lovely', 'satanic', 'follow', '400thousad', 'channel', 'lookin', 'de', 'flowers', 'toot', 'peace', 'semiobscure', 'é', 'approx', 'notixiquating', 'maximize', 'busy', 'sian', 'skateboarding', 'reached', 'chechi', 'fan', 'well', 'rudi', '85023', 'diamonds', 'tones2you', 'cd', 'scallies', 'mquiz', 'four', 'princes', 'chip', 'losing', 'thanx', 'squeezed', 'dancin', 'teresa', 'outfor', 'jobyet', 'tog', 'otside', 'grab', '23g', 'restrictions', 'arms', 'pavanaputra', 'sorrow', 'xin', 'ukp', 'yun', 'yeovil', 'dentists', 'afghanistan', 'merry', 'inlude', 'reserve', 'phne', 'becaus', 'important', '09058094599', 'hmmm', 'exmpel', 'sw73ss', 'asap', 'roomate', 'eh74rr', 'place', 'tonsolitusaswell', 'honi', 'kate', 'matured', 'ldnw15h', 'stable', 'loose', 'lovers', 'kanagu', 'jaykwon', 'somewheresomeone', 'stressfull', 'lift', 'rajitha', 'aiyar', 'okay', '140', 'arng', 'frnds', '09050002311', 'ws', 'positive', 'ripped', 'matthew', 'morefrmmob', 'tessy', 'arithmetic', 'juswoke', 'property', 'symbol', 'hotel', 'swimsuit', 'cld', 'outstanding', 'taken', 'relation', 'administrator', 'explosive', 'miracle', '6zf', 'gnun', 'happenin', 'clothes', 'monthly', 'goal', 'you', 'ishtamayoo', 'fixedline', '750', 'wld', 'tmr', 'noe', 'mu', 'replys150', 'tips', 'grand', 'askin', 'arm', 'ab', 'culdnt', '4jx', 'minuts', 'indyarocks', 'nutter', 'g2', 'authorise', 'due', '7oz', 'explicit', 'lunch', 'around', 'i', 'calicut', '63miles', 'y', 'erotic', 'of', 'stylist', 'psp', 'spoiled', 'proove', 'prabu', 'issue', 'tscs087147403231winawk', 'ente', 'easy', 'sochte', 'talk', 'stones', 'phones', 'height', 'dint', 'code', 'himso', 'shitload', 'challenging', 'passion', 'outsomewhere', 'handed', 'sh', 'tat', 'mb', 'murderer', 'torch', 'nicky', 'help08718728876', 'clos1', 'hmv1', 'hoops', '09050000332', 'nag', 'preschoolco', 'da', 'closer', 'necklace', '3100', 'listed', 'silent', 'erutupalam', 'member', 'itz', '26th', 'anymore', 'slower', 'feb', '50ppm', 'into', 'cheered', 'bank', 'html', 'payed', 'alerts', 'courageous', 'av', 'operate', 'va', '08714712412', 'bucks', 'hava', 'mj', 'rounder', 'out', 'destiny', 'beerage', 'immediately', 'hella', 'doin', 'movietrivia', 'waste', 'plenty', '08712402779', 'garden', 'research', 'impression', 'dying', 'triumphed', 'contents', 'wed', 'usps', 'don', 'british', 'guild', 'pod', 'ctter', 'pints', 'beauty', 'jay', 'rumour', 'box61', 'woo', 'potter', 'remembr', 'iyo', 'unable', 'madam', 'ctargg', 'nahi', 'lanre', 'nottingham', '22', 'ure', '087123002209am', 'thanks2', '200p', '81618', 'rightly', '09058094565', 'deliver', 'stereo', '09099726395', 'breathing', 'costume', 'tenants', 'considering', 'planned', 'needy', 'cook', 'sweetheart', 'stomps', '31', 'traffic', 'knw', 'hehe', 'west', 'rgent', 'laughs', 'season', 'speciale', 'piss', 'sleepy', 'hopefully', 'marketing', 'trav', 'minutes', 'tensed', 'mood', 'captaining', 'gravy', 'tmw', 'lancaster', 'rakhesh', 'idiot', 'flight', 'ignore', 'videophones', 'wewa', 'robinson', 'survey', 'prizeawaiting', 'never', '08700621170150p', 'treat', 'getzed', 'lf56', 'interfued', 'mobileupd8', 'tacos', 'flaky', 'gee', '81303', '1205', 'sarcasm', 'cut', 'cash', 'trainners', '99', 'needed', '06', 'league', '2end', 'systems', 'remixed', 'subpoly', 'free2day', '087147123779am', 'obese', 'outrageous', 'computers', 'workand', 'pictures', 'scary', 'rain', 'success', 'tones', 'manual', 'sweets', 'received', 'textbook', 'tooth', 'luv', 'flung', '7th', 'gnt', 'failed', 'ccna', 'haiz', 'sumthin', 'ext', 'king', '3g', '3wks', 'ducking', 'obviously', 'bx420', '89545', 'xxuk', 'plural', 'progress', 'warming', 'chocolate', 'spree', 'petticoatdreams', '09061221066', '2px', 'experiment', '730', 'hor', 'common', 'geeee', 'fluids', 'stressful', 'rummer', 'illness', 'way2sms', 'swoop', 'dang', 'traditions', 'offering', 'dehydration', '2u', '1mega', 'witout', 'handing', 'evaluation', 'invnted', 'relocate', 'hanger', 'sir', 'lennon', 'poly3', 'cake', 'number', '530', 'ammae', 'snogs', 'high', 'supose', 'ps', 'shivratri', '08714712394', 'receivea', 'continue', 'closed', 'ml', 'perfume', 'scoring', 'strange', 'paths', 'parking', '2years', 'gray', 'rhode', 'sue', 'beendropping', 'amp', 'incredible', 'grown', 'emc1', 'befor', 'macha', 'mush', 'cave', 'eastenders', 'whore', 'vodka', 'calld', 'dhoni', 'beggar', 'ever', 'clear', 'carefully', 'bath', 'suggestions', 'april', 'hence', 'ignorant', 'fund', 'mails', 'oveable', 'go', 'bridge', 'dice', 'foley', 'arul', 'charlie', 'aiyo', 'detail', 'prasad', 'po19', 'ground', 'westonzoyland', 'managed', 'dogbreath', 'skins', '09061743386', '0808', 'custom', 'insects', 'porn', 'ipod', 'timin', 'sp', 'shared', '5pm', '08000938767', '08718711108', 'responsibility', 'amma', '7250', 'psxtra', 'kidz', 'textand', 'nothin', 'attend', 'reminder', 'dial', 'nevr', 'jobs', 'suganya', 'drivby', 'jjc', 'uniform', 'case', 'potato', 'patent', 'hlday', 'coupla', 'studentfinancial', 'chat', '〨ud', 'shinco', 'entry', 'butt', 'zed', 'helping', 'fondly', 'ppm', 'castor', 'sory', '07821230901', '800', 'food', 'supply', 'doublemins', '946', 'people', '0870', 'shirts', 'realized', 'customersqueries', 'next', 'tor', '09063458130', 'drug', '08002986030', 'trishul', 'lect', 'nick', 'harri', 'shola', 'chatting', 'than', 'telugu', 'drunk', 'newscaster', 'boatin', 'locks', 'smoked', 'offc', 'poboxox36504w45wq', 'lotsof', '9996', 'gam', 'cr9', 'chuckin', 'callin', 'raji', 'option', 'allah', 'ayo', 'tol', 'ques', 'motor', 'loves', 'profit', 'inperialmusic', 'stopsms', 'ú1', 'idps', 'browser', 'cps', 'lingo', 'soc', 'ans', 'frank', 'approaching', 'chest', 'suply', 'mca', 'wait', 'mustprovide', 'kitty', 'unemployed', 'othrwise', 'haiyoh', '9', 'ag', 'discussed', 'packs', 'granite', 'tui', 'dime', 'shove', 'appointments', 'workage', 'passionate', 'plaza', 'pleasure', 'great', 'tuesday', 'ago', 'completed', 'probably', 'boyfriend', 'rights', '3gbp', 'fixes', 'borrow', 'ain', 'bleh', 'winterstone', 'bunkers', '20', 'whr', 'back', 'hold', 'paper', 'intelligent', 'letters', 'after', 'dinero', '3optical', 'offered', 'noncomittal', 'retired', 'com1win150ppmx3age16subscription', 'door', 'adoring', 'na', 'ali', '505060', 'unlike', 'sura', '450pw', 'lands', 'arun', 'stomach', 'thanks', 'pickle', 'iwas', 'kept', 'unni', 'actually', '87239', 'hint', 'wondarfull', 'm60', 'wanna', 'eppolum', 'problem', 'telediscount', '23f', 'clocks', 'shall', 'unconsciously', 'burden', 'hop', 'beware', 'xx', 'checked', 'mid', 'ed', 'voucher', 'swan', '13', 'slip', '80', 'catching', 'ovulate', '83370', 'mobiles', 'cutter', 'bettr', 'callcost', 'accessible', 'cer', '2u2', 'mobypobox734ls27yf', 'gaytextbuddy', 'mother', 'scrappy', 'end', 'messy', 'green', 'euro', 'ninish', 'mm', 'reverse', 'receive', 'infernal', 'paining', 'eckankar', 'slo', 'million', 'wouldn', 'hockey', 'mila', 'smaller', 'qet', 'gm', 'phoned', 'list', 'drizzling', '02', '5th', 'subscribe6gbp', 'efreefone', 'wins', 'station', 'images', 'chat80155', 'silly', '77', '2nite', 't91', 'tobacco', 'loud', 'sent', 'way', 'saved', 'wkend', 'march', '14thmarch', 'unicef', 'band', 'cn', '1x150p', 'salary', 'intrude', 'k', 'dodda', 'cheque', 'kaila', '14', 'adventure', 'lv', 'infront', 'nat27081980', 'kinda', 'slept', 'pushbutton', 'chinky', 'doll', 'calls1', 'sugababes', 'gucci', 'gv', 'pound', 'bridal', 'planet', 'stool', 'wahala', 'faggot', 'uneventful', 'wrk', 'us', 'asks', 'hunny', 'wicklow', 'wc1n3xx', 'won', '42810', 'actual', 'installation', 'spk', 'pass', 'caller', 'wkly', 'light', 'p', 'skillgame', 'currently', 'test', 'unsecured', 'adult', '83332', 'reaction', '2', 'logo', 'skint', 'supplies', '85069', 'pooja', '15', 'hit', 'entropication', 'tobed', 'complacent', '4goten', 'lord', '81151', 'hmmmm', '08714714011', 'mathe', 'predict', 'write', '12', 'text', 'heard', '8883', 'britney', 'thousands', 'fuckin', 'determined', 'cereals', 'pile', 'grins', 'nasty', 'exact', 'panalam', 'no', 'soup', 'ogunrinde', 'gail', 'pobox334', 'smsservices', 'villa', 'celebrated', 'tron', 'level', 'finance', 'dark', 'predicting', 'expect', 'very', 'gifted', 'somerset', 'angry', 'lets', 'velly', 'bigger', 'update', 'batch', 'amongst', '373', 'mad', 'papers', 'urgnt', 'activate', 'pple', 'milta', 'neway', 'diapers', '47per', '7cfca1a', 'review', 'scream', 'prediction', 'halloween', 'meetin', 'thew', 'friends', 'ollu', 'chase', 'xclusive', 'events', 'carry', 'giggle', 'storming', '545', 'australia', 'ld', 'l', 'mumhas', 'street', 'stars', 'omw', 'please', 'kappa', 'uhhhhrmm', 'torrents', 'picsfree1', 'bros', 'autocorrect', 'restrict', 'whatever', 'parked', 'relieved', 'listen', 'specialisation', 'strt', 'huge', 'daaaaa', 'sol', 'generally', 'wit', 'havin', 'waz', 'base', 'strict', 'load', 'treacle', 'cthen', 'birthdate', 'bishan', 'detailed', 'fyi', 'incorrect', 'u', 'air', 'sayy', 'aiya', 'park', '440', 'account', 'pie', '09064011000', 'formally', '4217', 'motorola', 'abta', 'reg', 'sentence', 'sacked', '420', 'pose', 'elaine', 'etc', '910', 'course', 'before', 'laden', 'punto', 'mallika', '02073162414', 'sometext', 'tolerance', 'noooooooo', 'blessed', '8027', 'luck', 'santacalling', 'super', 'cab', 'thinl', 'main', 'morrow', 'atleast', 'gravel', 'swt', 'itself', '69698', 'boltblue', 'qatar', 'attracts', 'superb', 'defeat', 'luvd', 'confirm', 'decorating', 'meow', '150', 'film', 'sec', 'mat', 'jul', 'journey', 'sub', '4d', 'margaret', 'sarasota', '4eva', 'diwali', 'services', 'canary', 'im', 'nichols', 'payed2day', 'csbcm4235wc1n3xx', 'mono', 'le', 'sorts', 'maybe', '08704439680ts', 'threw', 'gbp5', 'stripes', 'promise', '07880867867', 'holby', 'sday', 'shore', 'amrita', 'snowman', 'gary', 'friend', 'dentist', 'pain', 'boys', 'plaid', 'space', 'mystery', 'payoh', 'valued', 'anythin', 'yar', 'days', 'expert', 'river', 'cum', 'shracomorsglsuplt', 'diff', 'juz', 'hill', 'accident', '08081560665', 'tranquility', 'thesedays', 'delivered', 'jenny', 'definite', 'svc', 'connection', 'alright', 'surf', 'fats', '1000call', 'students', 'housing', 'persons', 'stdtxtrate', 'his', 'broadband', 'petey', 'pudunga', 'signing', 'throwing', 'sunday', 'grams', 'advise', 'admin', 'temple', 'sis', 'uncomfortable', 'alert', 'ijust', 'african', 'rock', 'tcs', 'hos', 'termsapply', 'massive', 'side', 'w45wq', 'hardcore', '1131', 'olol', 'degrees', 'sachin', 'leo', 'dom', 'club4mobiles', '3days', 'landing', 'mountain', 'november', 'gynae', '02072069400', 'mi', 'rush', 'sip', 'rd', 'plate', 'keen', 'visionsms', 'natalja', 'wont', 'zebra', 'saves', '21870000', 'house', 'andros', 'cuddle', '12hrs', 'ideal', 'till', 'jeans', 'pull', 'entitled', 'relationship', '08452810075over18', 'nyc', 'jez', 'mobno', 'pounds', 'receiving', 'swalpa', 'up4', 'moji', 'qing', 'strain', 'havent', 'running', 'hasbro', 'depressed', 'age23', 'disconnected', 'boost', '69669', 'dick', 'dad', '09066364589', '2bold', 'transfr', 'truly', 'chief', 'simpler', 'language', '1250', 'stopcs', '250', 'conected', '08712402972', 'renewed', '79', 'ten', '08006344447', 'bless', 'sundayish', 'remember', 'mushy', 'wid', 'fedex', 'yelling', 'ave', 'decisions', '2nhite', 'cam', 'sky', 'wlcome', 'pobox36504w45wq', 'messenger', 'othrs', 'nvm', 'scammers', 'partnership', 'steak', 'reunion', 'professional', 'knock', 'neighbour', 'man', 'semi', 'blonde', 'funk', 'decades', 'savings', 'allows', 'embarassed', 'regard', 'steam', 'messages', 'enjoying', 'want', 'box326', 'k52', 'team', 'gonna', 'films', '820554ad0a1705572711', 'paranoid', 'feet', '150ppm', 'cruise', '130', 'eire', 'forwarded', '87077', 'smart', 'ac', 'clean', 'patty', 'coveragd', 'show', 'upon', '85233', 'thought', 'window', 'starving', '69101', 'east', 'holla', '09066364349', 'fingers', 'ahmad', 'cry', 'textin', 'abnormally', 'com1win150ppmx3age16', 'archive', 'yah', 'ntimate', 'week', 'amanda', 'jackpot', 'arrive', 'polyph', 'many', 'its', 'pixels', 'olave', 'ey', 'mmmmm', 'rubber', 'find', 'against', 'only', 'problum', 'selling', 'confidence', 'attraction', 'doing', 'nobody', 'uks', 'skyped', 'accordingly', 'prin', 'sentiment', 'sts', 'ikea', 'fun', 'webpage', '2nights', 'stores', 'hearted', 'lemme', 'hype', 'merely', 'utter', 'truro', 'comuk', 'meh', 'rofl', 'rude', 'he', 'ofice', 'anyway', 'items', 'msgrcvd18', 'eightish', 'their', 'snot', 'ding', 'wellda', 'www', 'person2die', 'yards', 'yetunde', 'offline', 'responsibilities', 'relaxing', 'ubandu', 'liverpool', 'lipo', 'continued', 'essential', 'darlings', 'saying', 'new', 'attempt', 'ou', 'freaky', 'freefone', 'strips', 'batt', 'afford', 'impressively', 'yep', 'link', 'leads', 'wat', 'because', 'rents', 'getting', 'elaborate', '50', 'runs', 'celebrations', 'poop', 'locations', 'kiefer', 'ringtone', 'logoff', 'email', 'maniac', 'vibrate', 'welp', 'stalking', 'lecture', 'fear', 'clip', 'count', 'range', 'textpod', 'anyhow', '2optout', 'newest', 'potential', 'glo', 'nasdaq', 'investigate', 'hesitant', 'money', 'tht', 'debating', 'nytho', 'nowhere', 'wisheds', 'n', 'ppl', 'bites', 'fa', 'suite', 'billion', 'ho', 'puzzeles', 'permission', 'tallahassee', '50gbp', 'tirunelvai', 'classmates', 'neft', 'sunoco', '42478', 'sunlight', 'cdgt', '2waxsto', 'clarification', 'proof', 'settled', 'fair', 'soil', 'iknow', 'payback', 'mens', 'might', 'lock', 'questioned', 'bsn', 'sambar', 'executive', 'datz', 'callback', 'cliff', 'those', 'refunded', 'school', 'lived', 'vivek', 'bowa', 'gender', 'lautech', '07781482378', 'beautiful', 'flurries', 'cause', 'gorgeous', 'bold', 'agency', 'impatient', 'september', 'cnl', 'confused', 'successful', 'abiola', 'liking', 'both', 'oops', 'poo', 'babies', 'an', 'zhong', 'free', '2hook', 'quizclub', 'presents', '2stoptx', 'seperated', 'hcl', 'sd', 'software', 'impossible', 'athome', 'accent', 'wined', 'grumble', 'beeen', 'neglet', 'too', 'waht', 'somethin', 'island', 'father', 'assume', 'legs', '09090900040', '09050001808', 'juicy', '09061104276', '01223585334', 'sickness', 'via', 'yelow', 'earning', 'texas', '3650', 'screen', 'mapquest', 'am', 'stylish', 'thkin', 'identification', 'stoners', 'sara', 'garments', 'flatter', 'owed', 'type', 'glasgow', 'missed', 'gotmarried', 'blogspot', '08717205546', 'costs', 'coins', 'forevr', 'bathe', '88600', 'training', 'tonights', 'o', 'rcb', 'trivia', 'box', 'screwd', 'useful', 'commercial', 'volcanoes', 'golddigger', 'hero', 'devouring', 'difficult', 'byatch', 'dependable', 'affection', 'face', 'it', 'box39822', 'gt', 'hp', '08450542832', '08452810073', 'po', 'sighs', 'cheaper', 'rang', 'mine', 'baig', 'impressed', 'london', 'engaged', 'edukkukayee', 'competition', 'rejected', 'position', 'help08714742804', 'outside', 'justfound', 'headset', 'delhi', '9ae', 'goodo', 'smile', 'wks', 'nitros', 'ear', 'poking', 'canteen', 'cancer', 'premier', 'wanting', 'hairdressers', 'fathima', '8800', 'go2', 'box95qu', 'irritated', 'dare', '2000', 'award', 'smoke', 'ranju', 'uv', 'onlyfound', 'ki', 'pale', 'chess', 'logging', 'camera', 'experiencehttp', 'ouch', 'bulbs', 'sleepingwith', 'textbuddy', 'cafe', 'mcfly', 'sick', 'functions', 'santa', 'lucyxx', 'bit', 'aeroplane', '09077818151', 'meaning', 'filled', 'downon', 'coaxing', 'videos', 'savamob', 'frm', 'doesnt', 'loved', 'wrnog', 'soul', 'pendent', 'emotion', 'pending', 'cares', 'crab', '449050000301', 'blu', 'dunno', 'converter', 'own', 'products', 'rstm', 'remains', 'jacket', 'puttin', 'fires', 'eng', 'monthlysubscription', 'quiet', '09066362220', 'endless', 'yeh', '4fil', 'nalla', 'bf', 'thm', '4a', 'contented', 'between', 'trip', 'skip', 'icon', 'england', 'cusoon', 'aletter', 'unjalur', 'sozi', 'banned', '80160', 'pa', 'lvblefrnd', 'specify', 'lips', 'drive', 'apologise', 'anthony', 'fix', 'messed', 'arsenal', '08718727870', 'shut', '0870141701216', 'freely', 'amnow', 'arise', 'kr', 'console', 'feels', 'mix', 'aberdeen', '526', 'donate', 'cupboard', 'ibiza', 'unconscious', 'healer', 'friendships', 'cos', 'disaster', 'legitimat', 'dependents', 'definitely', 'fiend', 'shitinnit', 'acl03530150pm', 'masteriastering', 'book', 'tomarrow', '11', 'lekdog', 'gimme', 'posted', 'okies', 'yr', '11mths', 'transfer', 'downloads', 'polyphonic', 'wonders', 'brown', 'your', 'picking', 'wknd', 'anniversary', 'hoped', 'realize', 'ennal', 'windows', 'history', 'bthere', 'yoga', 'gd', 'yoville', 'kind', 'sao', 'sometme', 'fed', 'labor', 'countin', 'sipix', 'watches', 'hogidhe', 'unbelievable', 'cherthala', 'hear', 'pg', '09061790126', 'alex', 'noise', 'behave', '87021', 'kaitlyn', 'minnaminunginte', 'netvision', 'do', 'comfort', 'plumbing', 'enufcredeit', 'overdose', 'cherish', 'rem', 'escape', '3', 'lanka', 'imma', 'macs', 'b4utele', 'flies', 'vegas', 'lt', 'repeating', 'tootsie', 'roommate', 'sudden', 'pouch', 'sound', 'fish', 'information', 'cust', 'ything', '18', 'live', 'fight', 'truth', 'uncountable', 'ros', 'road', 'oru', 'gang', 'believe', 'determine', 'sack', 'avent', 'anonymous', 'got', 'print', 'gep', 'ing', 'splat', 'ps3', 'cheap', 'doubletxt', 'dear', 'ha', 'maruti', 'barred', 'hug', 'zindgi', 'carolina', 'kusruthi', 'town', 'tune', 'unmits', '7ws', 'sane', 'envy', 'rearrange', 'credited', 'simply', 'ganesh', 'eyes', 'jsco', 'sashimi', 'true18', 'portions', 'walk', 'fran', '08719180219', 'cricketer', 'frnt', 'artists', '08715205273', 'gastroenteritis', 'fighting', 'cooking', 'placement', 'necessary', 'carlos', '07046744435', 'mnths', 'nordstrom', '087104711148', 'different', 'husband', 'fastest', 'same', 'surely', 'claim', 'prayers', '400', '09066368327', 'imagine', 'parish', 'another', 'bong', 'so', 'chop', 'cheating', 'nokias', '2channel', '220cm2', 'gettin', 'hav', 'leh', 'paragon', 'billy', '08717898035', 'chgs', '08712300220', 'practising', 'w1jhl', 'freek', 'deepak', 'ph', 'eve', 'hrishi', '2003', 'probpop', 'buttons', 'biola', 'messaging', 'concentrating', 'christmassy', 'hg', 'loverboy', 'usually', 'lag', 'entry41', 'rays', 'save', 'ive', 'nationwide', '09058094455', 'gotto', 'drastic', 'playing', 'tgxxrz', 'mate', 'ranjith', 'kickoff', 'drunken', 'boss', 'possessive', 'mia', 'untamed', 'howu', 'shining', 'paces', 'promotion', 'waitin', 'plans', '3aj', 'blogging', 'eaten', 'wenwecan', 'yahoo', 'webeburnin', 'hm', 'latest', 'lunchtime', 'belovd', 'di', 'kb', 'color', 'possession', 'box97n7qp', 'evil', 'off', 'stamps', 'cakes', 'deus', 'mary', 'months', 'chapter', 'miss', 'howz', 'suggest', 'june', 'dealing', '8am', 'childish', 'visitors', 'affairs', 'walmart', 'humanities', 'hide', 'drinking', 'dump', 'unsubscribed', '36504', 'settling', 'kerala', 'chickened', 'gdeve', 'tbs', 'orchard', '08708034412', 'likely', 'tag', 'either', 'payments', 'videosound', 'cashto', 'hasn', 'jokin', 'musicnews', 'outages', 'ay', 'deleted', 'm6', 'teachers', 'springs', 'voda', '674', 'honeybee', 'spoon', 'popped', '7732584351', 'endowed', 'forgotten', 'clever', 'right', 'name2', 'cc', 'ultimately', 'sept', 'worth', '82468', 'nigeria', 'along', 'reflex', 'tv', 'westshore', '6pm', 'aphex', 'evenings', 'overtime', 'internet', 'aco', 'sez', 'topped', 'nokia6600', 'stil', 'm100', 'eight', 'cool', 'gobi', 'travelled', 'avenue', 'din', '09066380611', 'nowadays', 'nurses', 'bellearlier', 'hundreds', 'practical', '80082', 'lovingly', 'penny', 'comedy', 'daytime', 'tee', 'uk', 'ny', 'prakasam', 'yalru', 'gossip', 'kisi', 'cds', 'h', 'surly', 'wa', 'todays', 'moving', 'time', 'wah', 'kochi', '07946746291', '08715203656', 'subscriber', 'praises', 'theatre', 'or', '78', 'lmao', 'henry', 'herself', 'eg', 'stitch', 'sun', 'modl', 'nor', 'hypotheticalhuagauahahuagahyuhagga', 'coccooning', 'astronomer', 'education', 'hypertension', 'spending', '18yrs', 'lubly', 'allday', 'sch', 'folks', 's89', 'bell', 'anyones', 'honestly', 'semester', 'reserved', 'bills', 'pence', 'mesages', 'lover', 'beach', 'prize', '5min', 'web', 'sed', '200', 'ours', 'nap', '09066649731from', 'kid', 'motherfucker', 'ifink', 'good', 'screamed', 'fgkslpopw', 'revision', 'fly', 'dined', 'pandy', 'naseeb', 'virgins', 'ass', 'lays', 'gotta', 'yuo', 'lesson', 'ummma', '0845', 'exterminator', 'leanne', 'english', 'telly', 'coping', 'steed', 'few', 'cutie', 'disconnect', 'beer', 'kodstini', 'qi', 'adress', 'vday', 'ikno', 'sips', 'hurt', 'held', 'spl', '145', 'sacrifice', 'walls', 'eek', 'province', 'ibh', 'jeetey', 'dha', 'hes', 'frauds', 'witot', 'suggestion', 'howdy', 'happiness', 'model', 'thesis', 'ee', 'irritating', 'tscs', '449071512431', 'sized', 'stuff', 'bimbo', 'some1', 'version', 'references', 'bsnl', 'advance', 'login', 'pataistha', 'soonlots', 'lighters', 'despite', '1843', 'unnecessarily', 'haughaighgtujhyguj', 'display', 'box1146', 'ava', 'kl341', 'path', 'dining', 'moved', 'takin', 'categories', '4msgs', 'brother', 'ringtones', 'congratulations', 'shakespeare', 'bambling', 'fireplace', 'speling', '08712402578', '89034', '2geva', 'break', 'brolly', 'recent', 'basket', 'prsn', 'gymnastics', 'turkeys', 'parent', 'farm', 'the', 'slurp', 'weddin', 'mentor', 'dorm', '08081263000', 'busty', 'leaves', 'needing', 'successfully', 'gal', 'favourite', 'sold', 'permanent', 'bao', 'taxes', 'isaiah', 'increments', 'tm', 'snappy', 'surgical', 'netcollex', 'x', 'hurts', 'gap', 'squishy', 'misss', 'hanging', 'mnth', 'thankyou', 'pokkiri', 'games', 'behalf', 'ebay', 'ltdhelpdesk', 'infact', 'tear', 'finally', 'asp', 'hont', 'arngd', 'banter', 'fb', 'ticket', 'maturity', 'pears', 'geoenvironmental', 'ntwk', 'brighten', 'perumbavoor', 'sms', 'velusamy', '3ss', 'had', 'gently', 'ard', 'battery', 'speechless', 'njan', 'cross', 'areyouunique', 'travel', 'troubleshooting', 'goodnight', 'getstop', '123', 'evr', 'though', 'biatch', 'happened', 'yetty', 'shock', 'server', 'lead', 'being', 'reserves', 'yourjob', 'bt', 'forgets', '786', 'elephant', 'paracetamol', '8', 'fell', 'beta', 'approve', 'greet', 'conditions', 'active', 'ignoring', 'sources', 'jorge', '09066362206', 'monoc', '84199', 'did', 'justthought', 'albi', 'cantdo', 'electricity', 'wedlunch', 'cc100p', 'coming', 'soz', 'january', 'mtmsg18', 'leftovers', 'rr', 'axis', 'stalk', 'ashes', 'juan', 'jack', 'weigh', '6230', 'misbehaved', 'maintaining', 'carryin', 'omg', '114', 'janinexx', 'washob', 'box177', 'expecting', 'dificult', '08712400603', 'embarrassed', 'lifetime', 'conveying', '45pm', 'wet', 'tiger', 'membership', 'tsunami', 'met', 'holiday', 'chinese', 'hut', 'crisis', 'olowoyey', 'rob', 'see', 'event', 'each', 'conclusion', '07753741225', 'itried2tell', 'hourish', 'latelyxxx', 'phone', 'clock', 'box385', 'inclusive', 'thus', 'promoting', 'expected', 'ooooooh', 'offcampus', 'pete', 'teach', 'checkboxes', 'go2sri', 'tigress', 'not', 'sehwag', 'glands', 'arrival', 'wan2', 'brandy', 'watts', 'schools', 'dessert', 'aids', 'limiting', 'claimcode', 'realised', 'caught', 'brings', 'sic', 'shagged', 'night', 'hex', '21', 'thinking', 'aha', 'ms', '82050', 'elama', 'rows', 'thats', 'echo', 'txtstop', 'knew', 'slob', '09058094597', 'mis', 'prepayment', 'pobox', '09099726481', 'sneham', 'breather', 'youuuuu', 'telphone', 'shld', 'angels', '42049', 'turn', 'valentine', 'falling', 'iff', 'persian', 'lou', 'swann', 'auntie', 'hun', 'wrench', 'longer', 'chasing', '83021', 'newsletter', 'wc1n', 'insha', 'real', 'jolly', 'slp', 'scold', 'sittin', 'bid', 'front', 'xxxx', 'cabin', 'poured', 'twat', 'turned', 'max10mins', 'child', 'guess', 'cheese', 'accumulation', 'bears', 'install', 'captain', '07734396839', 'bhaji', 'pthis', 'get4an18th', 'howda', 'desperate', 'brilliantly', 'blood', 'requires', 'booked', 'honesty', 'uncles', 'wrking', 'ors', 'musical', 'birds', 'chef', 'thout', 'nalli', 'grl', 'serving', 'cya', 'el', 'mailbox', 'a21', '80062', 'flow', '09099726429', 'buffet', 'abt', 'yuou', 'receipt', 'horny', 'widelive', 'fridge', 'piece', 'meetins', 'self', 'certificate', 'm221bp', 'boy', 'terrible', 'luks', 'appropriate', 'hamper', 'goes', 'sometime', 'ppm150', 'holy', 'daywith', 'upload', 'reslove', 'weirdy', 'spanish', 'gua', 'auto', 'become', 'lov', '4brekkie', 'happier', 'sayin', 'compare', 'recovery', 'imagination', 'nevamind', 'sitter', 'zouk', 'recount', '_', '69969', 'bits', 'loosu', 'features', 'ft', 'oni', 'eggs', 'tnc', 'preferably', 'dec', 'general', 'salad', 'bandages', 'itxt', 'abdomen', 'loosing', 'far', 'blessings', 'patients', 'supervisor', '125gift', 'batsman', 'mus', 'weirdest', 'song', 'gving', 'credits', 'steyn', 'transcribing', 'teams', 'goodfriend', 'terry', 'willing', 'as', 'genes', 'nearly', 'minor', 'stupid', 'doit', 'length', 'or2stoptxt', 'solved', 'pobox75ldns7', 'wihtuot', 'covers', 'argue', 'aproach', 'jeremiah', 'canada', 'gmw', 'abeg', 'app', 'cheyyamo', 'accounts', 'dress', 'gotbabes', 'peeps', 'require', 'faber', 'yorge', 'madstini', 'scores', '861', '5years', 'uni', 'endof', 'bras', 'meals', 'gnarls', 'elvis', 'within', 'where', 'hostel', 'o2fwd', 'aretaking', 'tp', 'in2', 'president', 'mandy', 'rose', 'hack', 'woould', 'books', 'hopeu', 'offdam', '83049', 'started', 'pairs', 'ability', 'yer', 'hopeing', 'irritates', 'jocks', 'law', 'complexities', 'opened', 'moby', 'click', 'staff', 'wales', 'tops', 'sorrows', 'long', 'somewhat', 'inde', '1', 'sit', 'shu', 'ello', 'texting', 'reduce', 'ethnicity', 'agent', 'bought', '9153', 'age16', 'operator', 'rates', 'grinder', 'apnt', 'etlp', 'mrng', 'str', 'lara', 'shell', 'placed', 'shot', 'dnt', 'yaxxx', 'sophas', 'skills', 'brdget', 'lives', 'exactly', '900', 'filthyguys', 'wocay', 'just', 'espe', 'x2', 'remain', 'wherre', 'lyrics', 'year', 'gist', '7ish', 'phone750', 'derp', 'cheer', 'ron', 'anderson', 'trauma', 'nighters', '078498', 'somone', 'coffee', 'ip', 'further', 'backdoor', 'help', 'ramen', 'dungerees', 'swing', 'significance', 'smoothly', '08702490080', 'tiring', 'global', 'merememberin', 'linear', 'firefox', '08718725756', '08715203649', 'units', 'cme', 'rocking', 'why', 'waiting', 'hellogorgeous', 'missunderstding', 'lifted', 'portal', 'gower', 'aight', 'bluetoothhdset', 'checking', 'http', '83039', 'urination', 'lovable', 'nearer', 'apply', 'wahleykkum', 'yo', 'working', 'still', 'habit', 'effects', 'hopeso', 'addie', 'roast', 'mp3', '650', 'mtmsgrcvd18', 'php', 'getsleep', 'adsense', 'showrooms', 'bored', 'pap', '1000', 'marriage', 'dramatic', 'birth', 'appt', 'mag', 'kissing', 'reveal', 'bluff', '0825', 'forwarding', '08715203685', 'china', 'figures', 'sounds', 'jesus', 'f', 'dearly', 'oreo', 'listened2the', 'sooner', '69988', 'admirer', 'geting', 'gumby', 'damn', 'dan', 'replacing', 'vasai', 'election', 'hoo', 'thurs', 'buz', 'rules', 'six', 'blind', 'two', '350', 'developed', 'cr01327bt', 'ltd', 'scrounge', 'sex', 'windy', 'kegger', 'annie', 'dresser', 'sort', 'applebees', 'bcaz', '09066361921', 'learn', '09066660100', 'pig', 'tix', 'wuld', 'collapsed', 'hol', 'series', 'doug', 'have', 'standard', 'anytime', 'senrd', 'rto', 'parkin', 'hate', 'hugging', 'apples', 'lifpartnr', 'only1more', 'eat', 'id', 'american', 'argh', 'ndship', 'affair', 'freak', 'thank', 'tough', '48', 'margin', '08708800282', 'spinout', 'nope', 'returned', 'science', 'showers', 'ecstasy', '82324', 'suzy', 'smith', 'ridden', 'what', 'repent', 'quarter', 'panren', 'ru', 'mt', 'tiime', '180', 'rub', 'intro', 'donno', 'respect', 'weather', 'public', 'hilarious', 'mmmmmm', 'sprint', 'reward', 'syd', 'cared', 'greeting', 'ages', 'refused', 'joke', 'south', '09041940223', 'cs', 'regretted', 'bro', 'join', 'afternoons', 'flat', 'formal', 'amount', 'predicte', 'aww', 'odalebeku', 'nxt', 'rt', 'gardener', 'esplanade', 'california', 'shadow', '630', 'tmrw', 'workin', 'often', 'repair', 'sisters', 'spend', 'contribute', 'sang', 'poor', 'woah', 'mack', '83355', 'especially', 'indicate', 'hassling', 'coimbatore', 'mummy', 'oyea', 'xxx', '65', 'billing', 'identifier', 'lasting', 'stockport', 'thoughts', 'lately', 'outdoors', 'thatmum', 'tata', 'records', '9755', '2morow', 'champ', 'graphics', '4th', 'tenerife', 'shampain', 'freinds', '4882', 'incident', '60p', 'rupaul', 'shade', 'cooped', 'dosomething', 'achan', 'millions', '80155', '33', 'somebody', 'church', 'madoke', 'voila', 'prof', 'by', '2rcv', 'testing', 'hell', 'joy', 'oil', '4719', 'spys', 'japanese', 'readers', 'eating', 'breath', 'ibn', 'lush', 'oso', 'spain', 'such', '8077', '83222', 'foot', 'port', 'lay', 'chic', 'mob', 'wrld', 'chez', 'following', 'applyed', 'x49', 'gals', '09111032124', '86688', 'fond', 'situations', 'willpower', 'g', 'weakness', 'guidance', 'headstart', 's3xy', 'present', 'gsex', 'player', '078', 'things', 'notice', 'be', 'shake', 'snatch', 'hitter', 'earn', 'video', 'summon', 'drivin', '1hr', 'cartoon', 'sunscreen', 'paid', 'aries', 'ig11', 'abj', '0906346330', 'reception', 'musthu', '07742676969', '2moro', 'honey', 'favor', 'ummmmmaah', 'magicalsongs', '09066350750', 'oja', 'wap', 'nigro', 'satsgettin', '1500', 'doctors', 'zealand', 'sleeping', 'grave', 'tt', 'try', 'schedule', 'inviting', 'bffs', 'costing', 'wrote', '2mro', 'act', 'medical', 'charged', 'safe', 'valid', 'changed', '450', '9280114', 'westlife', 'reference', 'forced', 'cooperative', 'prob', 'vale', 'residency', 'aunts', 'hw', 'engalnd', 'dine', 'mean', 'blessing', 'psychic', 'mundhe', '150ppmsg', 'showered', 'notebook', 'filling', 'novelty', 'alaikkum', 'ordered', 'concert', 'darkness', 'requests', 'thnx', 'oblisingately', 'thinkin', 'adore', '1405', 'suntec', 'hello', 'roses', 'l8', 'pen', '07090298926', '09063442151', 'mth', 'lccltd', 'vitamin', 'excited', 'agidhane', 'makin', 'shame', 'tech', 'fuuuuck', '10am', 'seeds', 'lists', 'ystrday', 'alwys', 'row', 'force', 'cmon', 'salam', '150p16', 'complementary', 'share', '0578', 'some', 'sum', 'frndship', 'saw', 'ttyl', 'overa', 'fne', 'says', 'jelly', 'attach', 'forms', 'evey', 'tiz', 'nature', 'strings', 'bx', 'fuckinnice', 'amy', 'prompts', '09065989182', 'dubsack', 'sapna', 'profile', 'champlaxigating', 'upd8', 'office', 'sport', 'gautham', 'ex', 'usc', 'pract', '08709501522', 'st', 'sim', 'youphone', 'settings', 'final', 'ooh', 'women', 'sac', 'meal', 'superior', '0quit', 'dancce', 'report', 'able', 'domain', 'fantasy', 'fast', 'dracula', 'macedonia', 'craziest', 'jen', 'zeros', 'restaurant', 'nb', 'oclock', 'bar', 'over', '09064017295', 'saeed', 'sportsx', 'bloody', 'correct', 'works', 'rply', 'grazed', 'europe', 'ends', 'babes', 'funny', 'male', 'smiley', 'intention', 'fills', 'studio', 'paru', 'bahamas', '08718726971', '50p', 'related', 'decking', '450ppw', 'stuffing', 'checkup', 'brah', 'car', 'canname', 'hr', '4t', 'bmw', 'poker', 'kent', 'result', 'flower', 'ahead', 'pattern', 'gage', 'apparently', 'alternative', 'fetch', 'retard', 'diamond', 'problems', '26', 'changes', 'bullshit', 'whassup', 'sullivan', 'without', 'extreme', 'cheery', 'exam', 'woke', 'disastrous', '1146', 'bedreal', 'kavalan', 'valid12hrs', 'cnupdates', '09061221061', 'thy', '7', 'lark', 'heltini', '500', 'wkent', 'read', 'realise', 'shows', 'otbox', 'dvg', 'shuhui', 'toll', 'top', 'videochat', 'mone', 'kids', 'millers', 'smokin', 'eerie', 'otherwise', 'mas', 'awake', 'ham', 'look', 'rpl', 'fav', 'indians', 'ie', 'art', 'ymca', '09050003091', 'mudyadhu', 'hv', 'switch', 'at', 'drinkin', 'youi', '95', 'gn', 'direct', 'rounds', '2006', 'dressed', 'single', 'privacy', 'matches', 'aaniye', 'tulip', 'airtel', 'w1t1jy', 'ruthful', 'strike', '3x', 'naughty', '330', 'expects', 'filthy', 'fever', 'giving', 'arguments', 'crave', 'tension', 'waaaat', 'dolls', 'infections', 'hui', 'studyn', 'bslvyl', 'gift', 'srs', 'catch', '2i', 'chennai', 'janarige', 'tms', 'attitude', 'tlk', 'everyone', 'railway', 'love', 'gimmi', 'alive', '177', 'has', 'astne', 'pocked', 'game', 'party', '08717111821', 'mileage', 'taxi', 'lasagna', 'they', 'nat', '71', 'availa', 'pic', 'choose', 'daddy', 'places', 'beneficiary', 'yet', 'shouting', 'wear', '09066368753', 'properly']\n"
     ]
    }
   ],
   "source": [
    "vocabulary = []\n",
    "training_set[\"SMS\"] = training_set[\"SMS\"].str.split()\n",
    "for sms in training_set[\"SMS\"]:\n",
    "    for word in sms:\n",
    "        vocabulary.append(word)\n",
    "    \n",
    "vocabulary = list(set(vocabulary))\n",
    "print(vocabulary)"
   ]
  },
  {
   "cell_type": "markdown",
   "metadata": {
    "collapsed": true
   },
   "source": [
    "## The Final Training Set"
   ]
  },
  {
   "cell_type": "code",
   "execution_count": 7,
   "metadata": {
    "collapsed": false
   },
   "outputs": [],
   "source": [
    "word_counts_per_sms = {unique_word: [0] * len(training_set[\"SMS\"]) for unique_word in vocabulary}\n",
    "for index,sms in enumerate(training_set[\"SMS\"]):\n",
    "    for word in sms:\n",
    "        word_counts_per_sms[word][index] += 1"
   ]
  },
  {
   "cell_type": "code",
   "execution_count": 8,
   "metadata": {
    "collapsed": false
   },
   "outputs": [
    {
     "data": {
      "text/html": [
       "<div>\n",
       "<style scoped>\n",
       "    .dataframe tbody tr th:only-of-type {\n",
       "        vertical-align: middle;\n",
       "    }\n",
       "\n",
       "    .dataframe tbody tr th {\n",
       "        vertical-align: top;\n",
       "    }\n",
       "\n",
       "    .dataframe thead th {\n",
       "        text-align: right;\n",
       "    }\n",
       "</style>\n",
       "<table border=\"1\" class=\"dataframe\">\n",
       "  <thead>\n",
       "    <tr style=\"text-align: right;\">\n",
       "      <th></th>\n",
       "      <th>0</th>\n",
       "      <th>00</th>\n",
       "      <th>000</th>\n",
       "      <th>000pes</th>\n",
       "      <th>008704050406</th>\n",
       "      <th>0089</th>\n",
       "      <th>01223585334</th>\n",
       "      <th>02</th>\n",
       "      <th>0207</th>\n",
       "      <th>02072069400</th>\n",
       "      <th>...</th>\n",
       "      <th>zindgi</th>\n",
       "      <th>zoe</th>\n",
       "      <th>zogtorius</th>\n",
       "      <th>zouk</th>\n",
       "      <th>zyada</th>\n",
       "      <th>é</th>\n",
       "      <th>ú1</th>\n",
       "      <th>ü</th>\n",
       "      <th>〨ud</th>\n",
       "      <th>鈥</th>\n",
       "    </tr>\n",
       "  </thead>\n",
       "  <tbody>\n",
       "    <tr>\n",
       "      <th>0</th>\n",
       "      <td>0</td>\n",
       "      <td>0</td>\n",
       "      <td>0</td>\n",
       "      <td>0</td>\n",
       "      <td>0</td>\n",
       "      <td>0</td>\n",
       "      <td>0</td>\n",
       "      <td>0</td>\n",
       "      <td>0</td>\n",
       "      <td>0</td>\n",
       "      <td>...</td>\n",
       "      <td>0</td>\n",
       "      <td>0</td>\n",
       "      <td>0</td>\n",
       "      <td>0</td>\n",
       "      <td>0</td>\n",
       "      <td>0</td>\n",
       "      <td>0</td>\n",
       "      <td>0</td>\n",
       "      <td>0</td>\n",
       "      <td>0</td>\n",
       "    </tr>\n",
       "    <tr>\n",
       "      <th>1</th>\n",
       "      <td>0</td>\n",
       "      <td>0</td>\n",
       "      <td>0</td>\n",
       "      <td>0</td>\n",
       "      <td>0</td>\n",
       "      <td>0</td>\n",
       "      <td>0</td>\n",
       "      <td>0</td>\n",
       "      <td>0</td>\n",
       "      <td>0</td>\n",
       "      <td>...</td>\n",
       "      <td>0</td>\n",
       "      <td>0</td>\n",
       "      <td>0</td>\n",
       "      <td>0</td>\n",
       "      <td>0</td>\n",
       "      <td>0</td>\n",
       "      <td>0</td>\n",
       "      <td>0</td>\n",
       "      <td>0</td>\n",
       "      <td>0</td>\n",
       "    </tr>\n",
       "    <tr>\n",
       "      <th>2</th>\n",
       "      <td>0</td>\n",
       "      <td>0</td>\n",
       "      <td>0</td>\n",
       "      <td>0</td>\n",
       "      <td>0</td>\n",
       "      <td>0</td>\n",
       "      <td>0</td>\n",
       "      <td>0</td>\n",
       "      <td>0</td>\n",
       "      <td>0</td>\n",
       "      <td>...</td>\n",
       "      <td>0</td>\n",
       "      <td>0</td>\n",
       "      <td>0</td>\n",
       "      <td>0</td>\n",
       "      <td>0</td>\n",
       "      <td>0</td>\n",
       "      <td>0</td>\n",
       "      <td>0</td>\n",
       "      <td>0</td>\n",
       "      <td>0</td>\n",
       "    </tr>\n",
       "    <tr>\n",
       "      <th>3</th>\n",
       "      <td>0</td>\n",
       "      <td>0</td>\n",
       "      <td>0</td>\n",
       "      <td>0</td>\n",
       "      <td>0</td>\n",
       "      <td>0</td>\n",
       "      <td>0</td>\n",
       "      <td>0</td>\n",
       "      <td>0</td>\n",
       "      <td>0</td>\n",
       "      <td>...</td>\n",
       "      <td>0</td>\n",
       "      <td>0</td>\n",
       "      <td>0</td>\n",
       "      <td>0</td>\n",
       "      <td>0</td>\n",
       "      <td>0</td>\n",
       "      <td>0</td>\n",
       "      <td>0</td>\n",
       "      <td>0</td>\n",
       "      <td>0</td>\n",
       "    </tr>\n",
       "    <tr>\n",
       "      <th>4</th>\n",
       "      <td>0</td>\n",
       "      <td>0</td>\n",
       "      <td>0</td>\n",
       "      <td>0</td>\n",
       "      <td>0</td>\n",
       "      <td>0</td>\n",
       "      <td>0</td>\n",
       "      <td>0</td>\n",
       "      <td>0</td>\n",
       "      <td>0</td>\n",
       "      <td>...</td>\n",
       "      <td>0</td>\n",
       "      <td>0</td>\n",
       "      <td>0</td>\n",
       "      <td>0</td>\n",
       "      <td>0</td>\n",
       "      <td>0</td>\n",
       "      <td>0</td>\n",
       "      <td>2</td>\n",
       "      <td>0</td>\n",
       "      <td>0</td>\n",
       "    </tr>\n",
       "  </tbody>\n",
       "</table>\n",
       "<p>5 rows × 7783 columns</p>\n",
       "</div>"
      ],
      "text/plain": [
       "   0  00  000  000pes  008704050406  0089  01223585334  02  0207  02072069400  \\\n",
       "0  0   0    0       0             0     0            0   0     0            0   \n",
       "1  0   0    0       0             0     0            0   0     0            0   \n",
       "2  0   0    0       0             0     0            0   0     0            0   \n",
       "3  0   0    0       0             0     0            0   0     0            0   \n",
       "4  0   0    0       0             0     0            0   0     0            0   \n",
       "\n",
       "  ...  zindgi  zoe  zogtorius  zouk  zyada  é  ú1  ü  〨ud  鈥  \n",
       "0 ...       0    0          0     0      0  0   0  0    0  0  \n",
       "1 ...       0    0          0     0      0  0   0  0    0  0  \n",
       "2 ...       0    0          0     0      0  0   0  0    0  0  \n",
       "3 ...       0    0          0     0      0  0   0  0    0  0  \n",
       "4 ...       0    0          0     0      0  0   0  2    0  0  \n",
       "\n",
       "[5 rows x 7783 columns]"
      ]
     },
     "execution_count": 8,
     "metadata": {},
     "output_type": "execute_result"
    }
   ],
   "source": [
    "word_counts = pd.DataFrame(word_counts_per_sms)\n",
    "word_counts.head()"
   ]
  },
  {
   "cell_type": "code",
   "execution_count": 9,
   "metadata": {
    "collapsed": false
   },
   "outputs": [
    {
     "data": {
      "text/html": [
       "<div>\n",
       "<style scoped>\n",
       "    .dataframe tbody tr th:only-of-type {\n",
       "        vertical-align: middle;\n",
       "    }\n",
       "\n",
       "    .dataframe tbody tr th {\n",
       "        vertical-align: top;\n",
       "    }\n",
       "\n",
       "    .dataframe thead th {\n",
       "        text-align: right;\n",
       "    }\n",
       "</style>\n",
       "<table border=\"1\" class=\"dataframe\">\n",
       "  <thead>\n",
       "    <tr style=\"text-align: right;\">\n",
       "      <th></th>\n",
       "      <th>Label</th>\n",
       "      <th>SMS</th>\n",
       "      <th>0</th>\n",
       "      <th>00</th>\n",
       "      <th>000</th>\n",
       "      <th>000pes</th>\n",
       "      <th>008704050406</th>\n",
       "      <th>0089</th>\n",
       "      <th>01223585334</th>\n",
       "      <th>02</th>\n",
       "      <th>...</th>\n",
       "      <th>zindgi</th>\n",
       "      <th>zoe</th>\n",
       "      <th>zogtorius</th>\n",
       "      <th>zouk</th>\n",
       "      <th>zyada</th>\n",
       "      <th>é</th>\n",
       "      <th>ú1</th>\n",
       "      <th>ü</th>\n",
       "      <th>〨ud</th>\n",
       "      <th>鈥</th>\n",
       "    </tr>\n",
       "  </thead>\n",
       "  <tbody>\n",
       "    <tr>\n",
       "      <th>0</th>\n",
       "      <td>ham</td>\n",
       "      <td>[yep, by, the, pretty, sculpture]</td>\n",
       "      <td>0</td>\n",
       "      <td>0</td>\n",
       "      <td>0</td>\n",
       "      <td>0</td>\n",
       "      <td>0</td>\n",
       "      <td>0</td>\n",
       "      <td>0</td>\n",
       "      <td>0</td>\n",
       "      <td>...</td>\n",
       "      <td>0</td>\n",
       "      <td>0</td>\n",
       "      <td>0</td>\n",
       "      <td>0</td>\n",
       "      <td>0</td>\n",
       "      <td>0</td>\n",
       "      <td>0</td>\n",
       "      <td>0</td>\n",
       "      <td>0</td>\n",
       "      <td>0</td>\n",
       "    </tr>\n",
       "    <tr>\n",
       "      <th>1</th>\n",
       "      <td>ham</td>\n",
       "      <td>[yes, princess, are, you, going, to, make, me,...</td>\n",
       "      <td>0</td>\n",
       "      <td>0</td>\n",
       "      <td>0</td>\n",
       "      <td>0</td>\n",
       "      <td>0</td>\n",
       "      <td>0</td>\n",
       "      <td>0</td>\n",
       "      <td>0</td>\n",
       "      <td>...</td>\n",
       "      <td>0</td>\n",
       "      <td>0</td>\n",
       "      <td>0</td>\n",
       "      <td>0</td>\n",
       "      <td>0</td>\n",
       "      <td>0</td>\n",
       "      <td>0</td>\n",
       "      <td>0</td>\n",
       "      <td>0</td>\n",
       "      <td>0</td>\n",
       "    </tr>\n",
       "    <tr>\n",
       "      <th>2</th>\n",
       "      <td>ham</td>\n",
       "      <td>[welp, apparently, he, retired]</td>\n",
       "      <td>0</td>\n",
       "      <td>0</td>\n",
       "      <td>0</td>\n",
       "      <td>0</td>\n",
       "      <td>0</td>\n",
       "      <td>0</td>\n",
       "      <td>0</td>\n",
       "      <td>0</td>\n",
       "      <td>...</td>\n",
       "      <td>0</td>\n",
       "      <td>0</td>\n",
       "      <td>0</td>\n",
       "      <td>0</td>\n",
       "      <td>0</td>\n",
       "      <td>0</td>\n",
       "      <td>0</td>\n",
       "      <td>0</td>\n",
       "      <td>0</td>\n",
       "      <td>0</td>\n",
       "    </tr>\n",
       "    <tr>\n",
       "      <th>3</th>\n",
       "      <td>ham</td>\n",
       "      <td>[havent]</td>\n",
       "      <td>0</td>\n",
       "      <td>0</td>\n",
       "      <td>0</td>\n",
       "      <td>0</td>\n",
       "      <td>0</td>\n",
       "      <td>0</td>\n",
       "      <td>0</td>\n",
       "      <td>0</td>\n",
       "      <td>...</td>\n",
       "      <td>0</td>\n",
       "      <td>0</td>\n",
       "      <td>0</td>\n",
       "      <td>0</td>\n",
       "      <td>0</td>\n",
       "      <td>0</td>\n",
       "      <td>0</td>\n",
       "      <td>0</td>\n",
       "      <td>0</td>\n",
       "      <td>0</td>\n",
       "    </tr>\n",
       "    <tr>\n",
       "      <th>4</th>\n",
       "      <td>ham</td>\n",
       "      <td>[i, forgot, 2, ask, ü, all, smth, there, s, a,...</td>\n",
       "      <td>0</td>\n",
       "      <td>0</td>\n",
       "      <td>0</td>\n",
       "      <td>0</td>\n",
       "      <td>0</td>\n",
       "      <td>0</td>\n",
       "      <td>0</td>\n",
       "      <td>0</td>\n",
       "      <td>...</td>\n",
       "      <td>0</td>\n",
       "      <td>0</td>\n",
       "      <td>0</td>\n",
       "      <td>0</td>\n",
       "      <td>0</td>\n",
       "      <td>0</td>\n",
       "      <td>0</td>\n",
       "      <td>2</td>\n",
       "      <td>0</td>\n",
       "      <td>0</td>\n",
       "    </tr>\n",
       "  </tbody>\n",
       "</table>\n",
       "<p>5 rows × 7785 columns</p>\n",
       "</div>"
      ],
      "text/plain": [
       "  Label                                                SMS  0  00  000  \\\n",
       "0   ham                  [yep, by, the, pretty, sculpture]  0   0    0   \n",
       "1   ham  [yes, princess, are, you, going, to, make, me,...  0   0    0   \n",
       "2   ham                    [welp, apparently, he, retired]  0   0    0   \n",
       "3   ham                                           [havent]  0   0    0   \n",
       "4   ham  [i, forgot, 2, ask, ü, all, smth, there, s, a,...  0   0    0   \n",
       "\n",
       "   000pes  008704050406  0089  01223585334  02 ...  zindgi  zoe  zogtorius  \\\n",
       "0       0             0     0            0   0 ...       0    0          0   \n",
       "1       0             0     0            0   0 ...       0    0          0   \n",
       "2       0             0     0            0   0 ...       0    0          0   \n",
       "3       0             0     0            0   0 ...       0    0          0   \n",
       "4       0             0     0            0   0 ...       0    0          0   \n",
       "\n",
       "   zouk  zyada  é  ú1  ü  〨ud  鈥  \n",
       "0     0      0  0   0  0    0  0  \n",
       "1     0      0  0   0  0    0  0  \n",
       "2     0      0  0   0  0    0  0  \n",
       "3     0      0  0   0  0    0  0  \n",
       "4     0      0  0   0  2    0  0  \n",
       "\n",
       "[5 rows x 7785 columns]"
      ]
     },
     "execution_count": 9,
     "metadata": {},
     "output_type": "execute_result"
    }
   ],
   "source": [
    "training_set_clean = pd.concat([training_set, word_counts], axis=1)\n",
    "training_set_clean.head()"
   ]
  },
  {
   "cell_type": "markdown",
   "metadata": {},
   "source": [
    "## Calculating Constants First"
   ]
  },
  {
   "cell_type": "code",
   "execution_count": 10,
   "metadata": {
    "collapsed": false
   },
   "outputs": [],
   "source": [
    "# Isolating spam and ham messages first\n",
    "spam_messages = training_set_clean[training_set_clean['Label'] == 'spam']\n",
    "ham_messages = training_set_clean[training_set_clean['Label'] == 'ham']\n",
    "\n",
    "# P(Spam) and P(Ham)\n",
    "p_spam = len(spam_messages) / len(training_set_clean)\n",
    "p_ham = len(ham_messages) / len(training_set_clean)\n",
    "\n",
    "# N_Spam\n",
    "n_words_per_spam_message = spam_messages['SMS'].apply(len)\n",
    "n_spam = n_words_per_spam_message.sum()\n",
    "\n",
    "# N_Ham\n",
    "n_words_per_ham_message = ham_messages['SMS'].apply(len)\n",
    "n_ham = n_words_per_ham_message.sum()\n",
    "\n",
    "# N_Vocabulary\n",
    "n_vocabulary = len(vocabulary)\n",
    "\n",
    "# Laplace smoothing\n",
    "alpha = 1"
   ]
  },
  {
   "cell_type": "markdown",
   "metadata": {},
   "source": [
    "## Calculating Parameters"
   ]
  },
  {
   "cell_type": "code",
   "execution_count": 12,
   "metadata": {
    "collapsed": true
   },
   "outputs": [],
   "source": [
    "p_wi_spam = {word: (spam_messages[word].sum() + alpha)/(n_spam + alpha*n_vocabulary) for word in vocabulary}\n",
    "p_wi_ham = {word: (ham_messages[word].sum() + alpha)/(n_ham + alpha*n_vocabulary) for word in vocabulary}"
   ]
  },
  {
   "cell_type": "markdown",
   "metadata": {},
   "source": [
    "## Classifying A New Message"
   ]
  },
  {
   "cell_type": "code",
   "execution_count": 22,
   "metadata": {
    "collapsed": true
   },
   "outputs": [],
   "source": [
    "import re\n",
    "\n",
    "def classify(message):\n",
    "\n",
    "    message = re.sub('\\W', ' ', message)\n",
    "    message = message.lower()\n",
    "    message = message.split()\n",
    "\n",
    "    '''    \n",
    "    This is where we calculate:\n",
    "\n",
    "    p_spam_given_message = ?\n",
    "    p_ham_given_message = ?\n",
    "    '''    \n",
    "    p_word_given_spam = 1\n",
    "    for word in message:\n",
    "        if word in p_wi_spam:\n",
    "            p_word_given_spam *= p_wi_spam[word]\n",
    "    p_word_given_ham = 1\n",
    "    for word in message:\n",
    "        if word in p_wi_ham:\n",
    "            p_word_given_ham *= p_wi_ham[word]\n",
    "            \n",
    "    p_spam_given_message = p_spam * p_word_given_spam\n",
    "    p_ham_given_message = p_ham * p_word_given_ham\n",
    "    \n",
    "    #print('P(Spam|message):', p_spam_given_message)\n",
    "    #print('P(Ham|message):', p_ham_given_message)\n",
    "\n",
    "    if p_ham_given_message > p_spam_given_message:\n",
    "        return('ham')\n",
    "    elif p_ham_given_message < p_spam_given_message:\n",
    "        return('spam')\n",
    "    else:\n",
    "        return('needs human classification')"
   ]
  },
  {
   "cell_type": "code",
   "execution_count": 23,
   "metadata": {
    "collapsed": false
   },
   "outputs": [
    {
     "data": {
      "text/plain": [
       "'spam'"
      ]
     },
     "execution_count": 23,
     "metadata": {},
     "output_type": "execute_result"
    }
   ],
   "source": [
    "classify('WINNER!! This is the secret code to unlock the money: C3421.')"
   ]
  },
  {
   "cell_type": "code",
   "execution_count": 24,
   "metadata": {
    "collapsed": false
   },
   "outputs": [
    {
     "data": {
      "text/plain": [
       "'ham'"
      ]
     },
     "execution_count": 24,
     "metadata": {},
     "output_type": "execute_result"
    }
   ],
   "source": [
    "classify('Sounds good, Tom, then see u there')"
   ]
  },
  {
   "cell_type": "markdown",
   "metadata": {},
   "source": [
    "## Measuring the Spam Filter's Accuracy"
   ]
  },
  {
   "cell_type": "code",
   "execution_count": 26,
   "metadata": {
    "collapsed": false
   },
   "outputs": [
    {
     "data": {
      "text/html": [
       "<div>\n",
       "<style scoped>\n",
       "    .dataframe tbody tr th:only-of-type {\n",
       "        vertical-align: middle;\n",
       "    }\n",
       "\n",
       "    .dataframe tbody tr th {\n",
       "        vertical-align: top;\n",
       "    }\n",
       "\n",
       "    .dataframe thead th {\n",
       "        text-align: right;\n",
       "    }\n",
       "</style>\n",
       "<table border=\"1\" class=\"dataframe\">\n",
       "  <thead>\n",
       "    <tr style=\"text-align: right;\">\n",
       "      <th></th>\n",
       "      <th>Label</th>\n",
       "      <th>SMS</th>\n",
       "      <th>predicted</th>\n",
       "    </tr>\n",
       "  </thead>\n",
       "  <tbody>\n",
       "    <tr>\n",
       "      <th>0</th>\n",
       "      <td>ham</td>\n",
       "      <td>Later i guess. I needa do mcat study too.</td>\n",
       "      <td>ham</td>\n",
       "    </tr>\n",
       "    <tr>\n",
       "      <th>1</th>\n",
       "      <td>ham</td>\n",
       "      <td>But i haf enuff space got like 4 mb...</td>\n",
       "      <td>ham</td>\n",
       "    </tr>\n",
       "    <tr>\n",
       "      <th>2</th>\n",
       "      <td>spam</td>\n",
       "      <td>Had your mobile 10 mths? Update to latest Oran...</td>\n",
       "      <td>spam</td>\n",
       "    </tr>\n",
       "    <tr>\n",
       "      <th>3</th>\n",
       "      <td>ham</td>\n",
       "      <td>All sounds good. Fingers . Makes it difficult ...</td>\n",
       "      <td>ham</td>\n",
       "    </tr>\n",
       "    <tr>\n",
       "      <th>4</th>\n",
       "      <td>ham</td>\n",
       "      <td>All done, all handed in. Don't know if mega sh...</td>\n",
       "      <td>ham</td>\n",
       "    </tr>\n",
       "  </tbody>\n",
       "</table>\n",
       "</div>"
      ],
      "text/plain": [
       "  Label                                                SMS predicted\n",
       "0   ham          Later i guess. I needa do mcat study too.       ham\n",
       "1   ham             But i haf enuff space got like 4 mb...       ham\n",
       "2  spam  Had your mobile 10 mths? Update to latest Oran...      spam\n",
       "3   ham  All sounds good. Fingers . Makes it difficult ...       ham\n",
       "4   ham  All done, all handed in. Don't know if mega sh...       ham"
      ]
     },
     "execution_count": 26,
     "metadata": {},
     "output_type": "execute_result"
    }
   ],
   "source": [
    "test_set['predicted'] = test_set['SMS'].apply(classify)\n",
    "test_set.head()"
   ]
  },
  {
   "cell_type": "code",
   "execution_count": 34,
   "metadata": {
    "collapsed": false
   },
   "outputs": [
    {
     "name": "stdout",
     "output_type": "stream",
     "text": [
      "correct: 1100\n",
      "total: 1114\n",
      "accuracy: 0.9874326750448833\n"
     ]
    }
   ],
   "source": [
    "correct = (test_set[\"Label\"] == test_set[\"predicted\"]).sum()\n",
    "total = len(test_set)\n",
    "accuracy = correct/total\n",
    "\n",
    "print('correct:',correct)\n",
    "print(\"total:\",total)\n",
    "print(\"accuracy:\",accuracy)"
   ]
  },
  {
   "cell_type": "code",
   "execution_count": null,
   "metadata": {
    "collapsed": true
   },
   "outputs": [],
   "source": []
  }
 ],
 "metadata": {
  "kernelspec": {
   "display_name": "Python 3",
   "language": "python",
   "name": "python3"
  },
  "language_info": {
   "codemirror_mode": {
    "name": "ipython",
    "version": 3
   },
   "file_extension": ".py",
   "mimetype": "text/x-python",
   "name": "python",
   "nbconvert_exporter": "python",
   "pygments_lexer": "ipython3",
   "version": "3.4.3"
  }
 },
 "nbformat": 4,
 "nbformat_minor": 4
}
